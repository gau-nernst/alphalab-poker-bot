{
 "cells": [
  {
   "cell_type": "code",
   "execution_count": 1,
   "metadata": {},
   "outputs": [],
   "source": [
    "import tensorflow as tf\n",
    "import numpy as np\n",
    "import pandas as pd\n",
    "import matplotlib.pyplot as plt\n",
    "import seaborn as sns\n",
    "\n",
    "from pypokerengine.api.game import setup_config, start_poker\n",
    "from pypokerengine.players import BasePokerPlayer\n",
    "from players import FishPlayer, RandomPlayer, HonestPlayer\n",
    "from ThienPoker import create_model, ThienPlayer"
   ]
  },
  {
   "cell_type": "code",
   "execution_count": 3,
   "metadata": {},
   "outputs": [],
   "source": [
    "# poker_model = create_model()\n",
    "# poker_model.load_weights(f'saved_weights/thienplayer_20201101h134558')\n",
    "\n",
    "# poker_player = ThienPlayer('p1', poker_model)"
   ]
  },
  {
   "cell_type": "code",
   "execution_count": 2,
   "metadata": {},
   "outputs": [],
   "source": [
    "from submission import get_submission\n",
    "\n",
    "poker_player = get_submission()"
   ]
  },
  {
   "cell_type": "code",
   "execution_count": 3,
   "metadata": {},
   "outputs": [],
   "source": [
    "INITIAL_STACK = 1000"
   ]
  },
  {
   "cell_type": "code",
   "execution_count": 4,
   "metadata": {},
   "outputs": [
    {
     "name": "stdout",
     "output_type": "stream",
     "text": [
      "Started the round 1\n",
      "Street \"preflop\" started. (community card = [])\n",
      "\"p2\" declared \"call:10\"\n",
      "\"p1\" declared \"call:10\"\n",
      "Street \"flop\" started. (community card = ['D9', 'SA', 'C7'])\n",
      "\"p2\" declared \"call:0\"\n",
      "\"p1\" declared \"raise:198\"\n",
      "\"p2\" declared \"call:198\"\n",
      "Street \"turn\" started. (community card = ['D9', 'SA', 'C7', 'S7'])\n",
      "\"p2\" declared \"call:0\"\n",
      "\"p1\" declared \"fold:0\"\n",
      "\"['p2']\" won the round 1 (stack = {'p1': 792, 'p2': 1208})\n",
      "Started the round 2\n",
      "Street \"preflop\" started. (community card = [])\n",
      "\"p1\" declared \"call:10\"\n",
      "\"p2\" declared \"call:10\"\n",
      "Street \"flop\" started. (community card = ['SK', 'SA', 'DK'])\n",
      "\"p1\" declared \"raise:156\"\n",
      "\"p2\" declared \"call:156\"\n",
      "Street \"turn\" started. (community card = ['SK', 'SA', 'DK', 'H4'])\n",
      "\"p1\" declared \"call:0\"\n",
      "\"p2\" declared \"call:0\"\n",
      "Street \"river\" started. (community card = ['SK', 'SA', 'DK', 'H4', 'S6'])\n",
      "\"p1\" declared \"raise:125\"\n",
      "\"p2\" declared \"call:125\"\n",
      "\"['p1']\" won the round 2 (stack = {'p1': 1083, 'p2': 917})\n",
      "Started the round 3\n",
      "Street \"preflop\" started. (community card = [])\n",
      "\"p2\" declared \"call:10\"\n",
      "\"p1\" declared \"call:10\"\n",
      "Street \"flop\" started. (community card = ['S4', 'HK', 'HT'])\n",
      "\"p2\" declared \"call:0\"\n",
      "\"p1\" declared \"call:0\"\n",
      "Street \"turn\" started. (community card = ['S4', 'HK', 'HT', 'DK'])\n",
      "\"p2\" declared \"call:0\"\n",
      "\"p1\" declared \"call:0\"\n",
      "Street \"river\" started. (community card = ['S4', 'HK', 'HT', 'DK', 'DQ'])\n",
      "\"p2\" declared \"call:0\"\n",
      "\"p1\" declared \"raise:214\"\n",
      "\"p2\" declared \"call:214\"\n",
      "\"['p1']\" won the round 3 (stack = {'p1': 1307, 'p2': 693})\n",
      "Started the round 4\n",
      "Street \"preflop\" started. (community card = [])\n",
      "\"p1\" declared \"call:10\"\n",
      "\"p2\" declared \"call:10\"\n",
      "Street \"flop\" started. (community card = ['D6', 'H5', 'H2'])\n",
      "\"p1\" declared \"call:0\"\n",
      "\"p2\" declared \"call:0\"\n",
      "Street \"turn\" started. (community card = ['D6', 'H5', 'H2', 'C2'])\n",
      "\"p1\" declared \"call:0\"\n",
      "\"p2\" declared \"call:0\"\n",
      "Street \"river\" started. (community card = ['D6', 'H5', 'H2', 'C2', 'SA'])\n",
      "\"p1\" declared \"raise:259\"\n",
      "\"p2\" declared \"call:259\"\n",
      "\"['p1']\" won the round 4 (stack = {'p1': 1576, 'p2': 424})\n",
      "Started the round 5\n",
      "Street \"preflop\" started. (community card = [])\n",
      "\"p2\" declared \"call:10\"\n",
      "\"p1\" declared \"call:10\"\n",
      "Street \"flop\" started. (community card = ['S4', 'D4', 'HQ'])\n",
      "\"p2\" declared \"call:0\"\n",
      "\"p1\" declared \"raise:313\"\n",
      "\"p2\" declared \"call:313\"\n",
      "Street \"turn\" started. (community card = ['S4', 'D4', 'HQ', 'HA'])\n",
      "\"p2\" declared \"call:0\"\n",
      "\"p1\" declared \"call:0\"\n",
      "Street \"river\" started. (community card = ['S4', 'D4', 'HQ', 'HA', 'D9'])\n",
      "\"p2\" declared \"call:0\"\n",
      "\"p1\" declared \"raise:250\"\n",
      "\"p2\" declared \"call:250\"\n",
      "\"['p1']\" won the round 5 (stack = {'p1': 2000, 'p2': 0})\n"
     ]
    },
    {
     "data": {
      "text/plain": [
       "{'rule': {'initial_stack': 1000,\n",
       "  'max_round': 10,\n",
       "  'small_blind_amount': 5,\n",
       "  'ante': 0,\n",
       "  'blind_structure': {}},\n",
       " 'players': [{'name': 'p1',\n",
       "   'uuid': 'wkalofzsbwbpwoobybbvco',\n",
       "   'stack': 2000,\n",
       "   'state': 'participating'},\n",
       "  {'name': 'p2',\n",
       "   'uuid': 'kcclmwlvnywsppffasybno',\n",
       "   'stack': 0,\n",
       "   'state': 'folded'}]}"
      ]
     },
     "execution_count": 4,
     "metadata": {},
     "output_type": "execute_result"
    }
   ],
   "source": [
    "config = setup_config(max_round=10, initial_stack=INITIAL_STACK, small_blind_amount=5)\n",
    "config.register_player(name=\"p1\", algorithm=poker_player)\n",
    "config.register_player(name=\"p2\", algorithm=FishPlayer())\n",
    "game_result = start_poker(config, verbose=1)\n",
    "game_result"
   ]
  },
  {
   "cell_type": "code",
   "execution_count": 5,
   "metadata": {},
   "outputs": [
    {
     "name": "stdout",
     "output_type": "stream",
     "text": [
      "Started the round 1\n",
      "Street \"preflop\" started. (community card = [])\n",
      "\"p2\" declared \"fold:0\"\n",
      "\"['p1']\" won the round 1 (stack = {'p1': 1005, 'p2': 995})\n",
      "Started the round 2\n",
      "Street \"preflop\" started. (community card = [])\n",
      "\"p1\" declared \"call:10\"\n",
      "\"p2\" declared \"fold:0\"\n",
      "\"['p1']\" won the round 2 (stack = {'p1': 1015, 'p2': 985})\n",
      "Started the round 3\n",
      "Street \"preflop\" started. (community card = [])\n",
      "\"p2\" declared \"call:10\"\n",
      "\"p1\" declared \"call:10\"\n",
      "Street \"flop\" started. (community card = ['S6', 'S8', 'SQ'])\n",
      "\"p2\" declared \"call:0\"\n",
      "\"p1\" declared \"raise:201\"\n",
      "\"p2\" declared \"call:201\"\n",
      "Street \"turn\" started. (community card = ['S6', 'S8', 'SQ', 'H8'])\n",
      "\"p2\" declared \"call:0\"\n",
      "\"p1\" declared \"raise:160\"\n",
      "\"p2\" declared \"call:160\"\n",
      "Street \"river\" started. (community card = ['S6', 'S8', 'SQ', 'H8', 'S7'])\n",
      "\"p2\" declared \"fold:0\"\n",
      "\"['p1']\" won the round 3 (stack = {'p1': 1386, 'p2': 614})\n",
      "Started the round 4\n",
      "Street \"preflop\" started. (community card = [])\n",
      "\"p1\" declared \"call:10\"\n",
      "\"p2\" declared \"fold:0\"\n",
      "\"['p1']\" won the round 4 (stack = {'p1': 1396, 'p2': 604})\n",
      "Started the round 5\n",
      "Street \"preflop\" started. (community card = [])\n",
      "\"p2\" declared \"fold:0\"\n",
      "\"['p1']\" won the round 5 (stack = {'p1': 1401, 'p2': 599})\n",
      "Started the round 6\n",
      "Street \"preflop\" started. (community card = [])\n",
      "\"p1\" declared \"call:10\"\n",
      "\"p2\" declared \"call:10\"\n",
      "Street \"flop\" started. (community card = ['H4', 'DJ', 'DQ'])\n",
      "\"p1\" declared \"raise:278\"\n",
      "\"p2\" declared \"call:278\"\n",
      "Street \"turn\" started. (community card = ['H4', 'DJ', 'DQ', 'HQ'])\n",
      "\"p1\" declared \"raise:222\"\n",
      "\"p2\" declared \"call:222\"\n",
      "Street \"river\" started. (community card = ['H4', 'DJ', 'DQ', 'HQ', 'DA'])\n",
      "\"p1\" declared \"call:0\"\n",
      "\"p2\" declared \"call:0\"\n",
      "\"['p2']\" won the round 6 (stack = {'p1': 891, 'p2': 1109})\n",
      "Started the round 7\n",
      "Street \"preflop\" started. (community card = [])\n",
      "\"p2\" declared \"fold:0\"\n",
      "\"['p1']\" won the round 7 (stack = {'p1': 896, 'p2': 1104})\n",
      "Started the round 8\n",
      "Street \"preflop\" started. (community card = [])\n",
      "\"p1\" declared \"call:10\"\n",
      "\"p2\" declared \"call:10\"\n",
      "Street \"flop\" started. (community card = ['D5', 'D9', 'C2'])\n",
      "\"p1\" declared \"call:0\"\n",
      "\"p2\" declared \"fold:0\"\n",
      "\"['p1']\" won the round 8 (stack = {'p1': 906, 'p2': 1094})\n",
      "Started the round 9\n",
      "Street \"preflop\" started. (community card = [])\n",
      "\"p2\" declared \"call:10\"\n",
      "\"p1\" declared \"call:10\"\n",
      "Street \"flop\" started. (community card = ['SQ', 'HA', 'D4'])\n",
      "\"p2\" declared \"call:0\"\n",
      "\"p1\" declared \"call:0\"\n",
      "Street \"turn\" started. (community card = ['SQ', 'HA', 'D4', 'S2'])\n",
      "\"p2\" declared \"call:0\"\n",
      "\"p1\" declared \"raise:179\"\n",
      "\"p2\" declared \"call:179\"\n",
      "Street \"river\" started. (community card = ['SQ', 'HA', 'D4', 'S2', 'S6'])\n",
      "\"p2\" declared \"call:0\"\n",
      "\"p1\" declared \"raise:143\"\n",
      "\"p2\" declared \"call:143\"\n",
      "\"['p2']\" won the round 9 (stack = {'p1': 574, 'p2': 1426})\n",
      "Started the round 10\n",
      "Street \"preflop\" started. (community card = [])\n",
      "\"p1\" declared \"call:10\"\n",
      "\"p2\" declared \"call:10\"\n",
      "Street \"flop\" started. (community card = ['H5', 'C5', 'CK'])\n",
      "\"p1\" declared \"raise:112\"\n",
      "\"p2\" declared \"call:112\"\n",
      "Street \"turn\" started. (community card = ['H5', 'C5', 'CK', 'D7'])\n",
      "\"p1\" declared \"call:0\"\n",
      "\"p2\" declared \"fold:0\"\n",
      "\"['p1']\" won the round 10 (stack = {'p1': 696, 'p2': 1304})\n"
     ]
    },
    {
     "data": {
      "text/plain": [
       "{'rule': {'initial_stack': 1000,\n",
       "  'max_round': 10,\n",
       "  'small_blind_amount': 5,\n",
       "  'ante': 0,\n",
       "  'blind_structure': {}},\n",
       " 'players': [{'name': 'p1',\n",
       "   'uuid': 'xnzkpaohvqvdzpitjmmphd',\n",
       "   'stack': 696,\n",
       "   'state': 'participating'},\n",
       "  {'name': 'p2',\n",
       "   'uuid': 'qzzpbttsysmpjxkjsiiwig',\n",
       "   'stack': 1304,\n",
       "   'state': 'participating'}]}"
      ]
     },
     "execution_count": 5,
     "metadata": {},
     "output_type": "execute_result"
    }
   ],
   "source": [
    "config = setup_config(max_round=10, initial_stack=INITIAL_STACK, small_blind_amount=5)\n",
    "config.register_player(name=\"p1\", algorithm=poker_player)\n",
    "config.register_player(name=\"p2\", algorithm=HonestPlayer())\n",
    "game_result = start_poker(config, verbose=1)\n",
    "game_result"
   ]
  },
  {
   "cell_type": "code",
   "execution_count": 6,
   "metadata": {},
   "outputs": [
    {
     "name": "stdout",
     "output_type": "stream",
     "text": [
      "Started the round 1\n",
      "Street \"preflop\" started. (community card = [])\n",
      "\"p2\" declared \"fold:0\"\n",
      "\"['p1']\" won the round 1 (stack = {'p1': 1005, 'p2': 995})\n",
      "Started the round 2\n",
      "Street \"preflop\" started. (community card = [])\n",
      "\"p1\" declared \"call:10\"\n",
      "\"p2\" declared \"raise:562\"\n",
      "\"p1\" declared \"call:562\"\n",
      "Street \"flop\" started. (community card = ['D8', 'S9', 'H5'])\n",
      "\"p1\" declared \"raise:88\"\n",
      "\"p2\" declared \"raise:251\"\n",
      "\"p1\" declared \"raise:88\"\n",
      "\"['p2']\" won the round 2 (stack = {'p1': 355, 'p2': 1645})\n",
      "Started the round 3\n",
      "Street \"preflop\" started. (community card = [])\n",
      "\"p2\" declared \"raise:353\"\n",
      "\"p1\" declared \"call:353\"\n",
      "Street \"flop\" started. (community card = ['HA', 'H6', 'HK'])\n",
      "\"p2\" declared \"raise:412\"\n",
      "\"p1\" declared \"call:412\"\n",
      "Street \"turn\" started. (community card = ['HA', 'H6', 'HK', 'DJ'])\n",
      "Street \"river\" started. (community card = ['HA', 'H6', 'HK', 'DJ', 'C9'])\n",
      "\"['p2']\" won the round 3 (stack = {'p1': 0, 'p2': 2000})\n"
     ]
    },
    {
     "data": {
      "text/plain": [
       "{'rule': {'initial_stack': 1000,\n",
       "  'max_round': 10,\n",
       "  'small_blind_amount': 5,\n",
       "  'ante': 0,\n",
       "  'blind_structure': {}},\n",
       " 'players': [{'name': 'p1',\n",
       "   'uuid': 'gcizumnesxdzbmwsltrsli',\n",
       "   'stack': 0,\n",
       "   'state': 'folded'},\n",
       "  {'name': 'p2',\n",
       "   'uuid': 'flnhlkzinwghlbaezszbmt',\n",
       "   'stack': 2000,\n",
       "   'state': 'participating'}]}"
      ]
     },
     "execution_count": 6,
     "metadata": {},
     "output_type": "execute_result"
    }
   ],
   "source": [
    "config = setup_config(max_round=10, initial_stack=INITIAL_STACK, small_blind_amount=5)\n",
    "config.register_player(name=\"p1\", algorithm=poker_player)\n",
    "config.register_player(name=\"p2\", algorithm=RandomPlayer())\n",
    "game_result = start_poker(config, verbose=1)\n",
    "game_result"
   ]
  },
  {
   "cell_type": "code",
   "execution_count": null,
   "metadata": {},
   "outputs": [],
   "source": []
  }
 ],
 "metadata": {
  "kernelspec": {
   "display_name": "Python [conda env:tf]",
   "language": "python",
   "name": "conda-env-tf-py"
  },
  "language_info": {
   "codemirror_mode": {
    "name": "ipython",
    "version": 3
   },
   "file_extension": ".py",
   "mimetype": "text/x-python",
   "name": "python",
   "nbconvert_exporter": "python",
   "pygments_lexer": "ipython3",
   "version": "3.8.5"
  }
 },
 "nbformat": 4,
 "nbformat_minor": 4
}
