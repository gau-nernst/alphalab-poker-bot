{
 "cells": [
  {
   "cell_type": "code",
   "execution_count": 87,
   "metadata": {},
   "outputs": [],
   "source": [
    "import tensorflow as tf\n",
    "import numpy as np\n",
    "import pandas as pd\n",
    "import matplotlib.pyplot as plt\n",
    "import seaborn as sns\n",
    "\n",
    "from pypokerengine.api.game import setup_config, start_poker\n",
    "from pypokerengine.players import BasePokerPlayer"
   ]
  },
  {
   "cell_type": "code",
   "execution_count": 10,
   "metadata": {},
   "outputs": [
    {
     "name": "stdout",
     "output_type": "stream",
     "text": [
      "Started the round 1\n",
      "Street \"preflop\" started. (community card = [])\n",
      "\"p2\" declared \"call:10\"\n",
      "\"p1\" declared \"call:10\"\n",
      "Street \"flop\" started. (community card = ['SJ', 'CT', 'SQ'])\n",
      "\"p2\" declared \"call:0\"\n",
      "\"p1\" declared \"call:0\"\n",
      "Street \"turn\" started. (community card = ['SJ', 'CT', 'SQ', 'D7'])\n",
      "\"p2\" declared \"call:0\"\n",
      "\"p1\" declared \"call:0\"\n",
      "Street \"river\" started. (community card = ['SJ', 'CT', 'SQ', 'D7', 'HQ'])\n",
      "\"p2\" declared \"call:0\"\n",
      "\"p1\" declared \"call:0\"\n",
      "\"['p2']\" won the round 1 (stack = {'p1': 90, 'p2': 110})\n",
      "Started the round 2\n",
      "Street \"preflop\" started. (community card = [])\n",
      "\"p1\" declared \"call:10\"\n",
      "\"p2\" declared \"call:10\"\n",
      "Street \"flop\" started. (community card = ['D6', 'HQ', 'H2'])\n",
      "\"p1\" declared \"call:0\"\n",
      "\"p2\" declared \"call:0\"\n",
      "Street \"turn\" started. (community card = ['D6', 'HQ', 'H2', 'HJ'])\n",
      "\"p1\" declared \"call:0\"\n",
      "\"p2\" declared \"call:0\"\n",
      "Street \"river\" started. (community card = ['D6', 'HQ', 'H2', 'HJ', 'D7'])\n",
      "\"p1\" declared \"call:0\"\n",
      "\"p2\" declared \"call:0\"\n",
      "\"['p2']\" won the round 2 (stack = {'p1': 80, 'p2': 120})\n",
      "Started the round 3\n",
      "Street \"preflop\" started. (community card = [])\n",
      "\"p2\" declared \"call:10\"\n",
      "\"p1\" declared \"call:10\"\n",
      "Street \"flop\" started. (community card = ['H3', 'C5', 'S7'])\n",
      "\"p2\" declared \"call:0\"\n",
      "\"p1\" declared \"call:0\"\n",
      "Street \"turn\" started. (community card = ['H3', 'C5', 'S7', 'DK'])\n",
      "\"p2\" declared \"call:0\"\n",
      "\"p1\" declared \"call:0\"\n",
      "Street \"river\" started. (community card = ['H3', 'C5', 'S7', 'DK', 'D3'])\n",
      "\"p2\" declared \"call:0\"\n",
      "\"p1\" declared \"call:0\"\n",
      "\"['p1']\" won the round 3 (stack = {'p1': 90, 'p2': 110})\n",
      "Started the round 4\n",
      "Street \"preflop\" started. (community card = [])\n",
      "\"p1\" declared \"call:10\"\n",
      "\"p2\" declared \"call:10\"\n",
      "Street \"flop\" started. (community card = ['S9', 'H4', 'C7'])\n",
      "\"p1\" declared \"call:0\"\n",
      "\"p2\" declared \"call:0\"\n",
      "Street \"turn\" started. (community card = ['S9', 'H4', 'C7', 'H5'])\n",
      "\"p1\" declared \"call:0\"\n",
      "\"p2\" declared \"call:0\"\n",
      "Street \"river\" started. (community card = ['S9', 'H4', 'C7', 'H5', 'DA'])\n",
      "\"p1\" declared \"call:0\"\n",
      "\"p2\" declared \"call:0\"\n",
      "\"['p1']\" won the round 4 (stack = {'p1': 100, 'p2': 100})\n",
      "Started the round 5\n",
      "Street \"preflop\" started. (community card = [])\n",
      "\"p2\" declared \"call:10\"\n",
      "\"p1\" declared \"call:10\"\n",
      "Street \"flop\" started. (community card = ['C5', 'H3', 'ST'])\n",
      "\"p2\" declared \"call:0\"\n",
      "\"p1\" declared \"call:0\"\n",
      "Street \"turn\" started. (community card = ['C5', 'H3', 'ST', 'HT'])\n",
      "\"p2\" declared \"call:0\"\n",
      "\"p1\" declared \"call:0\"\n",
      "Street \"river\" started. (community card = ['C5', 'H3', 'ST', 'HT', 'C4'])\n",
      "\"p2\" declared \"call:0\"\n",
      "\"p1\" declared \"call:0\"\n",
      "\"['p2']\" won the round 5 (stack = {'p1': 90, 'p2': 110})\n"
     ]
    },
    {
     "data": {
      "text/plain": [
       "{'rule': {'initial_stack': 100,\n",
       "  'max_round': 5,\n",
       "  'small_blind_amount': 5,\n",
       "  'ante': 0,\n",
       "  'blind_structure': {}},\n",
       " 'players': [{'name': 'p1',\n",
       "   'uuid': 'lnzngavgpdkaktedjkslfu',\n",
       "   'stack': 90,\n",
       "   'state': 'participating'},\n",
       "  {'name': 'p2',\n",
       "   'uuid': 'uhgnlpeuyrkopguxtxawfi',\n",
       "   'stack': 110,\n",
       "   'state': 'participating'}]}"
      ]
     },
     "execution_count": 10,
     "metadata": {},
     "output_type": "execute_result"
    }
   ],
   "source": [
    "class FishPlayer(BasePokerPlayer):\n",
    "    \n",
    "    def declare_action(self, valid_actions, hole_card, round_state):\n",
    "        call_action_info = valid_actions[1]\n",
    "#         print(valid_actions)\n",
    "        action, amount = call_action_info[\"action\"], call_action_info[\"amount\"]\n",
    "        return action, amount\n",
    "\n",
    "    def receive_game_start_message(self, game_info):\n",
    "        pass\n",
    "    \n",
    "    def receive_round_start_message(self, round_count, hole_card, seats):\n",
    "        pass\n",
    "    \n",
    "    def receive_street_start_message(self, street, round_state):\n",
    "        pass\n",
    "    \n",
    "    def receive_game_update_message(self, action, round_state):\n",
    "        pass\n",
    "    \n",
    "    def receive_round_result_message(self, winners, hand_info, round_state):\n",
    "        pass\n",
    "    \n",
    "config = setup_config(max_round=5, initial_stack=100, small_blind_amount=5)\n",
    "config.register_player(name=\"p1\", algorithm=FishPlayer())\n",
    "config.register_player(name=\"p2\", algorithm=FishPlayer())\n",
    "game_result = start_poker(config, verbose=1)\n",
    "game_result"
   ]
  },
  {
   "cell_type": "code",
   "execution_count": 41,
   "metadata": {},
   "outputs": [
    {
     "data": {
      "text/plain": [
       "52"
      ]
     },
     "execution_count": 41,
     "metadata": {},
     "output_type": "execute_result"
    }
   ],
   "source": [
    "suites = ('H', 'C', 'S', 'D')\n",
    "faces = [x for x in range(2,10)] + ['T', 'J', 'Q', 'K', 'A']\n",
    "\n",
    "encoder = {}\n",
    "i = 0\n",
    "\n",
    "for s in suites:\n",
    "    for f in faces:\n",
    "        encoder[f'{s}{f}'] = i\n",
    "        i += 1\n",
    "\n",
    "len(encoder)"
   ]
  },
  {
   "cell_type": "code",
   "execution_count": 157,
   "metadata": {},
   "outputs": [
    {
     "name": "stdout",
     "output_type": "stream",
     "text": [
      "Model: \"functional_81\"\n",
      "__________________________________________________________________________________________________\n",
      "Layer (type)                    Output Shape         Param #     Connected to                     \n",
      "==================================================================================================\n",
      "hole_cards (InputLayer)         [(None, 2, 52)]      0                                            \n",
      "__________________________________________________________________________________________________\n",
      "community_cards (InputLayer)    [(None, 5, 52)]      0                                            \n",
      "__________________________________________________________________________________________________\n",
      "concatenate_80 (Concatenate)    (None, 7, 52)        0           hole_cards[0][0]                 \n",
      "                                                                 community_cards[0][0]            \n",
      "__________________________________________________________________________________________________\n",
      "stacks_history (InputLayer)     [(None, 32, 2)]      0                                            \n",
      "__________________________________________________________________________________________________\n",
      "flatten_40 (Flatten)            (None, 364)          0           concatenate_80[0][0]             \n",
      "__________________________________________________________________________________________________\n",
      "lstm_40 (LSTM)                  (None, 32)           4480        stacks_history[0][0]             \n",
      "__________________________________________________________________________________________________\n",
      "concatenate_81 (Concatenate)    (None, 396)          0           flatten_40[0][0]                 \n",
      "                                                                 lstm_40[0][0]                    \n",
      "__________________________________________________________________________________________________\n",
      "dense_40 (Dense)                (None, 100)          39700       concatenate_81[0][0]             \n",
      "__________________________________________________________________________________________________\n",
      "dense_41 (Dense)                (None, 100)          10100       dense_40[0][0]                   \n",
      "__________________________________________________________________________________________________\n",
      "action (Dense)                  (None, 3)            303         dense_41[0][0]                   \n",
      "==================================================================================================\n",
      "Total params: 54,583\n",
      "Trainable params: 54,583\n",
      "Non-trainable params: 0\n",
      "__________________________________________________________________________________________________\n",
      "action:  [[0.23218004 0.38004827 0.38777167]]\n"
     ]
    }
   ],
   "source": [
    "def create_model():\n",
    "    hole_cards = tf.keras.Input(shape=(2,52,), name='hole_cards')\n",
    "    community_cards = tf.keras.Input(shape=(5,52,), name='community_cards')\n",
    "    stacks_history = tf.keras.Input(shape=(32,2,), name='stacks_history')\n",
    "    \n",
    "    cards = tf.keras.layers.concatenate([hole_cards, community_cards], axis=1)\n",
    "    cards = tf.keras.layers.Flatten()(cards)\n",
    "    stacks = tf.keras.layers.LSTM(32)(stacks_history)\n",
    "    \n",
    "    x = tf.keras.layers.concatenate([cards, stacks])\n",
    "    x = tf.keras.layers.Dense(100, activation='relu')(x)\n",
    "    x = tf.keras.layers.Dense(100, activation='relu')(x)\n",
    "    \n",
    "    action = tf.keras.layers.Dense(3, activation='softmax', name='action')(x)\n",
    "#     amount = tf.keras.layers.Dense(1, activation='sigmoid', name='amount')(x)\n",
    "    \n",
    "    model = tf.keras.Model(\n",
    "        inputs=[hole_cards, community_cards, stacks_history],\n",
    "        outputs=action\n",
    "    )\n",
    "    \n",
    "    return model\n",
    "\n",
    "testmodel = create_model()\n",
    "testmodel.summary()\n",
    "\n",
    "hole = ['HA', 'S4']\n",
    "community = ['ST', 'HJ', 'HQ', 'HK', 'S9']\n",
    "\n",
    "hole = [encoder[x] for x in hole]\n",
    "community = [encoder[x] for x in community]\n",
    "\n",
    "hole = tf.one_hot(hole, 52)\n",
    "hole = tf.expand_dims(hole, axis=0)\n",
    "\n",
    "community = tf.one_hot(community, 52)\n",
    "community = tf.expand_dims(community, axis=0)\n",
    "\n",
    "stacks = np.random.randint(10, 100, (32,2))\n",
    "stacks = np.expand_dims(stacks, axis=0)\n",
    "\n",
    "action = testmodel.predict([hole, community, stacks])\n",
    "print('action: ', action)\n",
    "# print('amount: ', amount)"
   ]
  },
  {
   "cell_type": "code",
   "execution_count": 158,
   "metadata": {},
   "outputs": [],
   "source": [
    "# game parameters\n",
    "INITIAL_STACK = 1000"
   ]
  },
  {
   "cell_type": "code",
   "execution_count": 159,
   "metadata": {},
   "outputs": [],
   "source": [
    "class ThienPlayer(BasePokerPlayer):\n",
    "    def __init__(self, name, model):\n",
    "        self.name = name\n",
    "        self.model = model\n",
    "        self.stacks_history = np.ones((32,2))*INITIAL_STACK\n",
    "        self.state_history = []\n",
    "        self.action_history = []\n",
    "        self.payoff_history = []\n",
    "    \n",
    "    def declare_action(self, valid_actions, hole_card, round_state):\n",
    "        round_count = round_state['round_count'] % 32\n",
    "        street = round_state['street']\n",
    "        if street == 'preflop':\n",
    "            return valid_actions[1]['action'], valid_actions[1]['amount']\n",
    "        \n",
    "        hole = [encoder[x] for x in hole_card]\n",
    "        community = [encoder[x] for x in round_state['community_card']]\n",
    "        community += [-1] * (5-len(community))\n",
    "        \n",
    "        hole = tf.one_hot(hole, 52)\n",
    "        hole = tf.expand_dims(hole, axis=0)\n",
    "\n",
    "        community = tf.one_hot(community, 52)\n",
    "        community = tf.expand_dims(community, axis=0)\n",
    "            \n",
    "        for x in round_state['seats']:\n",
    "            if x['name'] == self.name:\n",
    "                self.stacks_history[round_count, 0] = x['stack']\n",
    "                self.payoff_history.append(x['stack'] - self.stacks_history[(round_count-1+32)%32, 0]) \n",
    "            else:\n",
    "                self.stacks_history[round_count, 1] = x['stack']\n",
    "        \n",
    "        stacks_history = np.vstack([self.stacks_history[round_count:], self.stacks_history[:round_count]])\n",
    "        stacks_history = np.expand_dims(stacks_history, axis=0)\n",
    "        stacks_history = tf.convert_to_tensor(stacks_history)\n",
    "        \n",
    "        state = [hole, community, stacks_history]\n",
    "        self.state_history.append(state)\n",
    "        \n",
    "        action = self.model.predict(state)[0]\n",
    "        \n",
    "        action = np.random.choice(3, p=action)\n",
    "        self.action_history.append(action)\n",
    "        \n",
    "        if action < 2:\n",
    "            amount = valid_actions[action]['amount']\n",
    "        else:\n",
    "            amount = valid_actions[action]['amount']['min']\n",
    "        \n",
    "        return valid_actions[action]['action'], amount\n",
    "\n",
    "    def receive_game_start_message(self, game_info):\n",
    "        pass\n",
    "    \n",
    "    def receive_round_start_message(self, round_count, hole_card, seats):\n",
    "        pass\n",
    "    \n",
    "    def receive_street_start_message(self, street, round_state):\n",
    "        pass\n",
    "    \n",
    "    def receive_game_update_message(self, action, round_state):\n",
    "        pass\n",
    "    \n",
    "    def receive_round_result_message(self, winners, hand_info, round_state):\n",
    "        pass"
   ]
  },
  {
   "cell_type": "code",
   "execution_count": 160,
   "metadata": {},
   "outputs": [
    {
     "data": {
      "text/plain": [
       "{'rule': {'initial_stack': 1000,\n",
       "  'max_round': 100,\n",
       "  'small_blind_amount': 5,\n",
       "  'ante': 0,\n",
       "  'blind_structure': {}},\n",
       " 'players': [{'name': 'p1',\n",
       "   'uuid': 'ofpqfoaqflrhuxuogktxys',\n",
       "   'stack': 750,\n",
       "   'state': 'participating'},\n",
       "  {'name': 'p2',\n",
       "   'uuid': 'jlazbvgnymlcuhpseqkavx',\n",
       "   'stack': 1250,\n",
       "   'state': 'participating'}]}"
      ]
     },
     "execution_count": 160,
     "metadata": {},
     "output_type": "execute_result"
    }
   ],
   "source": [
    "model = create_model()\n",
    "player1 = ThienPlayer('p1', model)\n",
    "player2 = ThienPlayer('p2', model)\n",
    "\n",
    "config = setup_config(max_round=100, initial_stack=INITIAL_STACK, small_blind_amount=5)\n",
    "config.register_player(name=\"p1\", algorithm=player1)\n",
    "config.register_player(name=\"p2\", algorithm=player2)\n",
    "game_result = start_poker(config, verbose=0)\n",
    "game_result"
   ]
  },
  {
   "cell_type": "code",
   "execution_count": 161,
   "metadata": {},
   "outputs": [
    {
     "name": "stdout",
     "output_type": "stream",
     "text": [
      "[-10.0, -10.0, -20.0, 30.0, 20.0, 10.0, -10.0, -10.0, -10.0, -10.0, -20.0, -20.0, -40.0, -10.0, 20.0, -30.0, 10.0, 10.0, -10.0, 10.0, 0.0, -10.0, 30.0, 20.0, 10.0, 10.0, -10.0, 20.0, 10.0, -10.0, -20.0, 40.0, 50.0, -10.0, -20.0, 40.0, 30.0, 20.0, 10.0, 10.0, -10.0, -30.0, -40.0, 80.0, 70.0, 50.0, 40.0, 40.0, -10.0, -20.0, -30.0, -10.0, -20.0, -20.0, -10.0, -10.0, 0.0, 10.0, 10.0, 0.0, -10.0, -20.0, -30.0, 60.0, 60.0, 40.0, 30.0, -10.0, -20.0, -10.0, -10.0, -10.0, -10.0, 10.0, -30.0, -20.0, -10.0, -10.0, -10.0, -20.0, -30.0, 60.0, 60.0, 50.0, -40.0, -40.0, -40.0, -40.0, -10.0, -10.0, -10.0, -20.0, -20.0, -20.0, 10.0, 0.0, -10.0, -10.0, 30.0, 30.0, -80.0, -10.0, -10.0, -20.0, 40.0, 10.0, 10.0, 0.0, 0.0, -10.0, -10.0, -10.0, -20.0, -30.0, -30.0, -60.0, -10.0, -30.0, -40.0, -10.0, 10.0, 10.0, 0.0, 40.0, 30.0, 20.0, 10.0, 0.0, -20.0, -110.0, -10.0, -10.0, 30.0, -100.0, -10.0, -10.0, -10.0, -10.0, -10.0, -10.0, -160.0, -170.0, -180.0, -10.0, -10.0, -10.0, -130.0, -110.0, -10.0, -10.0, -10.0, -20.0, -10.0, -20.0, -10.0, -210.0, 10.0, -10.0, -10.0]\n",
      "[-10.0, 10.0, 0.0, -10.0, -20.0, -10.0, -30.0, 60.0, 10.0, 0.0, -10.0, 60.0, 60.0, 50.0, -10.0, -10.0, -10.0, -10.0, -10.0, 0.0, 0.0, -10.0, 20.0, 10.0, 0.0, -10.0, -30.0, 50.0, 40.0, -10.0, -10.0, -20.0, -30.0, -40.0, -10.0, -10.0, -60.0, -60.0, -70.0, -80.0, -10.0, -30.0, -40.0, 70.0, 60.0, 50.0, 40.0, 30.0, -10.0, -30.0, -40.0, -50.0, 90.0, 90.0, 70.0, 50.0, 40.0, 30.0, 10.0, -10.0, -10.0, -10.0, -10.0, -10.0, 20.0, 10.0, 0.0, -20.0, -30.0, -40.0, 60.0, 50.0, -10.0, 30.0, 30.0, 40.0, 50.0, 80.0, 70.0, 60.0, 50.0, -20.0, 20.0, -10.0, -10.0, -10.0, 10.0, 10.0, 10.0, 10.0, 20.0, 20.0, 20.0, -10.0, -10.0, -20.0, 200.0, 190.0, 180.0, -10.0, 10.0, 90.0, 90.0, 80.0, -20.0, -10.0, -10.0, -10.0, -20.0, -20.0, 40.0, 10.0, -10.0, 50.0, 150.0, 140.0, 120.0, 70.0, -10.0, -10.0, -20.0, -30.0, -10.0, -20.0, -40.0, -60.0, 130.0, 160.0, 160.0, 150.0, 140.0, -10.0, -10.0, 160.0, 160.0, 10.0, 10.0, 140.0, -10.0, -20.0, 40.0, 40.0, 140.0, 320.0, 150.0, 150.0, 10.0, 20.0, 20.0, 10.0, 30.0, -10.0, -10.0, -10.0, 10.0]\n"
     ]
    }
   ],
   "source": [
    "print(player1.payoff_history)\n",
    "print(player2.payoff_history)"
   ]
  },
  {
   "cell_type": "code",
   "execution_count": 162,
   "metadata": {},
   "outputs": [
    {
     "data": {
      "text/plain": [
       "[<matplotlib.lines.Line2D at 0x1c0b882f550>]"
      ]
     },
     "execution_count": 162,
     "metadata": {},
     "output_type": "execute_result"
    },
    {
     "data": {
      "image/png": "[encoded data removed]",
      "text/plain": [
       "<Figure size 432x288 with 1 Axes>"
      ]
     },
     "metadata": {
      "needs_background": "light"
     },
     "output_type": "display_data"
    }
   ],
   "source": [
    "n = len(player1.payoff_history)\n",
    "plt.plot(np.arange(n), player1.payoff_history)"
   ]
  },
  {
   "cell_type": "code",
   "execution_count": 163,
   "metadata": {},
   "outputs": [
    {
     "data": {
      "text/plain": [
       "<seaborn.axisgrid.FacetGrid at 0x1c0a6688c40>"
      ]
     },
     "execution_count": 163,
     "metadata": {},
     "output_type": "execute_result"
    },
    {
     "data": {
      "image/png": "[encoded data removed]",
      "text/plain": [
       "<Figure size 360x360 with 1 Axes>"
      ]
     },
     "metadata": {
      "needs_background": "light"
     },
     "output_type": "display_data"
    }
   ],
   "source": [
    "sns.displot(player1.payoff_history)"
   ]
  },
  {
   "cell_type": "code",
   "execution_count": 164,
   "metadata": {},
   "outputs": [
    {
     "data": {
      "text/plain": [
       "<tf.Tensor: shape=(159, 2, 52), dtype=float32, numpy=\n",
       "array([[[0., 0., 0., ..., 0., 0., 0.],\n",
       "        [0., 0., 0., ..., 0., 0., 0.]],\n",
       "\n",
       "       [[1., 0., 0., ..., 0., 0., 0.],\n",
       "        [0., 0., 0., ..., 0., 0., 0.]],\n",
       "\n",
       "       [[1., 0., 0., ..., 0., 0., 0.],\n",
       "        [0., 0., 0., ..., 0., 0., 0.]],\n",
       "\n",
       "       ...,\n",
       "\n",
       "       [[0., 0., 0., ..., 0., 0., 0.],\n",
       "        [0., 0., 0., ..., 0., 0., 0.]],\n",
       "\n",
       "       [[0., 0., 0., ..., 0., 0., 0.],\n",
       "        [0., 0., 0., ..., 0., 0., 0.]],\n",
       "\n",
       "       [[0., 0., 0., ..., 0., 0., 0.],\n",
       "        [0., 0., 0., ..., 0., 0., 0.]]], dtype=float32)>"
      ]
     },
     "execution_count": 164,
     "metadata": {},
     "output_type": "execute_result"
    }
   ],
   "source": [
    "hole = []\n",
    "community = []\n",
    "stack = []\n",
    "for state in player1.state_history:\n",
    "    hole.append(state[0])\n",
    "    community.append(state[1])\n",
    "    stack.append(state[2])\n",
    "    \n",
    "tf.stack(hole, axis=1)[0]"
   ]
  },
  {
   "cell_type": "code",
   "execution_count": 165,
   "metadata": {},
   "outputs": [
    {
     "data": {
      "text/plain": [
       "<tf.Tensor: shape=(49, 2, 52), dtype=float32, numpy=\n",
       "array([[[0., 0., 0., ..., 0., 0., 0.],\n",
       "        [0., 0., 0., ..., 0., 0., 0.]],\n",
       "\n",
       "       [[0., 0., 0., ..., 0., 0., 0.],\n",
       "        [0., 0., 0., ..., 0., 1., 0.]],\n",
       "\n",
       "       [[0., 0., 0., ..., 0., 0., 0.],\n",
       "        [0., 0., 0., ..., 0., 1., 0.]],\n",
       "\n",
       "       ...,\n",
       "\n",
       "       [[0., 0., 0., ..., 0., 0., 0.],\n",
       "        [0., 0., 0., ..., 0., 0., 0.]],\n",
       "\n",
       "       [[0., 0., 0., ..., 0., 0., 0.],\n",
       "        [0., 0., 0., ..., 0., 0., 0.]],\n",
       "\n",
       "       [[0., 0., 0., ..., 0., 0., 0.],\n",
       "        [0., 0., 0., ..., 0., 0., 0.]]], dtype=float32)>"
      ]
     },
     "execution_count": 165,
     "metadata": {},
     "output_type": "execute_result"
    }
   ],
   "source": [
    "def select_train_data(states, actions, payoffs, percentile=70):\n",
    "    hole = []\n",
    "    community = []\n",
    "    stack = []\n",
    "    \n",
    "    for state in states:\n",
    "        hole.append(state[0])\n",
    "        community.append(state[1])\n",
    "        stack.append(state[2])\n",
    "    \n",
    "    hole = tf.stack(hole, axis=1)[0]\n",
    "    community = tf.stack(community, axis=1)[0]\n",
    "    stack = tf.stack(stack, axis=1)[0]\n",
    "        \n",
    "    actions = np.array(actions)\n",
    "    payoffs = np.array(payoffs)\n",
    "    \n",
    "    threshold = np.percentile(payoffs, q=percentile)\n",
    "    \n",
    "    select = (payoffs >= threshold)\n",
    "    \n",
    "    return hole[select], community[select], stack[select], actions[select]\n",
    "\n",
    "train_hole, train_community, train_stack, train_actions = select_train_data(player1.state_history, player1.action_history, player1.payoff_history)\n",
    "train_hole"
   ]
  },
  {
   "cell_type": "code",
   "execution_count": 166,
   "metadata": {},
   "outputs": [
    {
     "name": "stdout",
     "output_type": "stream",
     "text": [
      "Epoch 1/10\n",
      "2/2 [==============================] - 0s 6ms/step - loss: 1.0761 - acc: 0.4694\n",
      "Epoch 2/10\n",
      "2/2 [==============================] - 0s 7ms/step - loss: 1.0365 - acc: 0.4898\n",
      "Epoch 3/10\n",
      "2/2 [==============================] - 0s 6ms/step - loss: 1.0084 - acc: 0.5714\n",
      "Epoch 4/10\n",
      "2/2 [==============================] - 0s 6ms/step - loss: 0.9831 - acc: 0.5918\n",
      "Epoch 5/10\n",
      "2/2 [==============================] - 0s 6ms/step - loss: 0.9608 - acc: 0.5918\n",
      "Epoch 6/10\n",
      "2/2 [==============================] - 0s 4ms/step - loss: 0.9404 - acc: 0.6327\n",
      "Epoch 7/10\n",
      "2/2 [==============================] - 0s 5ms/step - loss: 0.9202 - acc: 0.6531\n",
      "Epoch 8/10\n",
      "2/2 [==============================] - 0s 5ms/step - loss: 0.8974 - acc: 0.6531\n",
      "Epoch 9/10\n",
      "2/2 [==============================] - 0s 5ms/step - loss: 0.8742 - acc: 0.6735\n",
      "Epoch 10/10\n",
      "2/2 [==============================] - 0s 4ms/step - loss: 0.8504 - acc: 0.6939\n"
     ]
    },
    {
     "data": {
      "text/plain": [
       "<tensorflow.python.keras.callbacks.History at 0x1c0b8f91b50>"
      ]
     },
     "execution_count": 166,
     "metadata": {},
     "output_type": "execute_result"
    }
   ],
   "source": [
    "model.compile(\n",
    "    loss=tf.keras.losses.SparseCategoricalCrossentropy(),\n",
    "    optimizer=tf.keras.optimizers.Adam(),\n",
    "    metrics=['acc']\n",
    ")\n",
    "model.fit([train_hole, train_community, train_stack], train_actions, epochs=10)"
   ]
  },
  {
   "cell_type": "code",
   "execution_count": 178,
   "metadata": {},
   "outputs": [
    {
     "data": {
      "text/plain": [
       "{'rule': {'initial_stack': 1000,\n",
       "  'max_round': 100,\n",
       "  'small_blind_amount': 5,\n",
       "  'ante': 0,\n",
       "  'blind_structure': {}},\n",
       " 'players': [{'name': 'p1',\n",
       "   'uuid': 'zbipdrigtriypwphzobcyb',\n",
       "   'stack': 230,\n",
       "   'state': 'participating'},\n",
       "  {'name': 'p2',\n",
       "   'uuid': 'grbovejpwinkiznvruhenq',\n",
       "   'stack': 1770,\n",
       "   'state': 'participating'}]}"
      ]
     },
     "execution_count": 178,
     "metadata": {},
     "output_type": "execute_result"
    }
   ],
   "source": [
    "def test_players(player1, player2, max_round=100):\n",
    "    config = setup_config(max_round=max_round, initial_stack=INITIAL_STACK, small_blind_amount=5)\n",
    "    config.register_player(name=\"p1\", algorithm=player1)\n",
    "    config.register_player(name=\"p2\", algorithm=player2)\n",
    "    game_result = start_poker(config, verbose=0)\n",
    "    return game_result\n",
    "\n",
    "player_trained = ThienPlayer('p1', model)\n",
    "test_players(player_trained, FishPlayer())"
   ]
  },
  {
   "cell_type": "code",
   "execution_count": 168,
   "metadata": {},
   "outputs": [
    {
     "name": "stdout",
     "output_type": "stream",
     "text": [
      "Model: \"functional_85\"\n",
      "__________________________________________________________________________________________________\n",
      "Layer (type)                    Output Shape         Param #     Connected to                     \n",
      "==================================================================================================\n",
      "hole_cards (InputLayer)         [(None, 2, 52)]      0                                            \n",
      "__________________________________________________________________________________________________\n",
      "community_cards (InputLayer)    [(None, 5, 52)]      0                                            \n",
      "__________________________________________________________________________________________________\n",
      "concatenate_84 (Concatenate)    (None, 7, 52)        0           hole_cards[0][0]                 \n",
      "                                                                 community_cards[0][0]            \n",
      "__________________________________________________________________________________________________\n",
      "stacks_history (InputLayer)     [(None, 32, 2)]      0                                            \n",
      "__________________________________________________________________________________________________\n",
      "flatten_42 (Flatten)            (None, 364)          0           concatenate_84[0][0]             \n",
      "__________________________________________________________________________________________________\n",
      "lstm_42 (LSTM)                  (None, 32)           4480        stacks_history[0][0]             \n",
      "__________________________________________________________________________________________________\n",
      "concatenate_85 (Concatenate)    (None, 396)          0           flatten_42[0][0]                 \n",
      "                                                                 lstm_42[0][0]                    \n",
      "__________________________________________________________________________________________________\n",
      "dense_44 (Dense)                (None, 100)          39700       concatenate_85[0][0]             \n",
      "__________________________________________________________________________________________________\n",
      "dense_45 (Dense)                (None, 100)          10100       dense_44[0][0]                   \n",
      "__________________________________________________________________________________________________\n",
      "action (Dense)                  (None, 3)            303         dense_45[0][0]                   \n",
      "==================================================================================================\n",
      "Total params: 54,583\n",
      "Trainable params: 54,583\n",
      "Non-trainable params: 0\n",
      "__________________________________________________________________________________________________\n"
     ]
    }
   ],
   "source": [
    "poker_model = create_model()\n",
    "poker_model.summary()"
   ]
  },
  {
   "cell_type": "code",
   "execution_count": 170,
   "metadata": {},
   "outputs": [],
   "source": [
    "def generate_game_session(model, max_round=100):\n",
    "    player1 = ThienPlayer('p1', model)\n",
    "    player2 = ThienPlayer('p2', model)\n",
    "    \n",
    "    config = setup_config(max_round=max_round, initial_stack=INITIAL_STACK, small_blind_amount=5)\n",
    "    config.register_player(name=\"p1\", algorithm=player1)\n",
    "    config.register_player(name=\"p2\", algorithm=player2)\n",
    "    game_result = start_poker(config, verbose=0)\n",
    "    \n",
    "    states = player1.state_history + player2.state_history\n",
    "    actions = player1.action_history + player2.action_history\n",
    "    payoffs = player1.payoff_history + player2.payoff_history\n",
    "    \n",
    "    return states, actions, payoffs\n",
    "\n",
    "states, actions, payoffs = generate_game_session(poker_model)"
   ]
  },
  {
   "cell_type": "code",
   "execution_count": 171,
   "metadata": {},
   "outputs": [
    {
     "data": {
      "text/plain": [
       "<seaborn.axisgrid.FacetGrid at 0x1c0ba59dc10>"
      ]
     },
     "execution_count": 171,
     "metadata": {},
     "output_type": "execute_result"
    },
    {
     "data": {
      "image/png": "[encoded data removed]",
      "text/plain": [
       "<Figure size 360x360 with 1 Axes>"
      ]
     },
     "metadata": {
      "needs_background": "light"
     },
     "output_type": "display_data"
    }
   ],
   "source": [
    "sns.displot(payoffs)"
   ]
  },
  {
   "cell_type": "code",
   "execution_count": 181,
   "metadata": {},
   "outputs": [
    {
     "name": "stdout",
     "output_type": "stream",
     "text": [
      "Epoch \t ThienPlayer \t FishPlayer\n",
      "2/2 [==============================] - 0s 5ms/step - loss: 0.9853 - acc: 0.5901\n",
      "1 \t 810 \t 1190\n",
      "2/2 [==============================] - 0s 4ms/step - loss: 0.9705 - acc: 0.5732\n",
      "2 \t 780 \t 1220\n",
      "2/2 [==============================] - 0s 5ms/step - loss: 1.0535 - acc: 0.4839\n",
      "3 \t 370 \t 1630\n",
      "2/2 [==============================] - 0s 4ms/step - loss: 1.0010 - acc: 0.5273\n",
      "4 \t 190 \t 1810\n",
      "2/2 [==============================] - 0s 5ms/step - loss: 1.0469 - acc: 0.4873\n",
      "5 \t 660 \t 1340\n"
     ]
    }
   ],
   "source": [
    "def train_model(model, epochs=100):\n",
    "    print('Epoch \\t ThienPlayer \\t FishPlayer')\n",
    "    \n",
    "    for i in range(epochs):\n",
    "        states, actions, payoffs = generate_game_session(model)\n",
    "        train_hole, train_community, train_stack, train_actions = select_train_data(states, actions, payoffs)\n",
    "        \n",
    "        model.fit(\n",
    "            [train_hole, train_community, train_stack], \n",
    "            train_actions, \n",
    "            epochs=1,\n",
    "            batch_size=128,\n",
    "            verbose=0\n",
    "        )\n",
    "        \n",
    "        player = ThienPlayer('p1', model)\n",
    "        game_result = test_players(player, FishPlayer())\n",
    "        \n",
    "        print(f\"{i+1} \\t {game_result['players'][0]['stack']} \\t\\t {game_result['players'][1]['stack']}\")\n",
    "\n",
    "poker_model.compile(\n",
    "    loss=tf.keras.losses.SparseCategoricalCrossentropy(),\n",
    "    optimizer=tf.keras.optimizers.Adam(),\n",
    "    metrics=['acc']\n",
    ")\n",
    "\n",
    "train_model(poker_model, epochs=5)"
   ]
  },
  {
   "cell_type": "code",
   "execution_count": 175,
   "metadata": {},
   "outputs": [
    {
     "data": {
      "text/plain": [
       "{'rule': {'initial_stack': 1000,\n",
       "  'max_round': 100,\n",
       "  'small_blind_amount': 5,\n",
       "  'ante': 0,\n",
       "  'blind_structure': {}},\n",
       " 'players': [{'name': 'p1',\n",
       "   'uuid': 'fdrfscjyjfjaywctcoedcc',\n",
       "   'stack': 90,\n",
       "   'state': 'participating'},\n",
       "  {'name': 'p2',\n",
       "   'uuid': 'bdiaemguesxszzuzdbfvcd',\n",
       "   'stack': 1910,\n",
       "   'state': 'participating'}]}"
      ]
     },
     "execution_count": 175,
     "metadata": {},
     "output_type": "execute_result"
    }
   ],
   "source": [
    "player1 = ThienPlayer('p1', model)\n",
    "\n",
    "config = setup_config(max_round=100, initial_stack=INITIAL_STACK, small_blind_amount=5)\n",
    "config.register_player(name=\"p1\", algorithm=player1)\n",
    "config.register_player(name=\"p2\", algorithm=FishPlayer())\n",
    "game_result = start_poker(config, verbose=0)\n",
    "game_result"
   ]
  }
 ],
 "metadata": {
  "kernelspec": {
   "display_name": "Python [conda env:tf]",
   "language": "python",
   "name": "conda-env-tf-py"
  },
  "language_info": {
   "codemirror_mode": {
    "name": "ipython",
    "version": 3
   },
   "file_extension": ".py",
   "mimetype": "text/x-python",
   "name": "python",
   "nbconvert_exporter": "python",
   "pygments_lexer": "ipython3",
   "version": "3.8.5"
  }
 },
 "nbformat": 4,
 "nbformat_minor": 4
}
