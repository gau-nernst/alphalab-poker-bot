{
 "cells": [
  {
   "cell_type": "code",
   "execution_count": 1,
   "metadata": {
    "colab": {
     "base_uri": "https://localhost:8080/"
    },
    "id": "NBi2eznnoXqp",
    "outputId": "c6b9b533-28ec-4bbd-8e46-1e480e7b72c7"
   },
   "outputs": [
    {
     "name": "stdout",
     "output_type": "stream",
     "text": [
      "Collecting PyPokerEngine\n",
      "\u001b[?25l  Downloading https://files.pythonhosted.org/packages/47/ed/4518f3e9505a05a2c29d699a2ae612217e6ffcb27d91b5403061d6320056/PyPokerEngine-1.0.1.tar.gz (44kB)\n",
      "\u001b[K     |████████████████████████████████| 51kB 6.2MB/s  eta 0:00:01\n",
      "\u001b[?25hBuilding wheels for collected packages: PyPokerEngine\n",
      "  Building wheel for PyPokerEngine (setup.py) ... \u001b[?25l\u001b[?25hdone\n",
      "  Created wheel for PyPokerEngine: filename=PyPokerEngine-1.0.1-cp36-none-any.whl size=34034 sha256=82e71e9f8a145e52048211ebf5bf227cc38b5e0f6038e6c4f0775c8d02cb78ed\n",
      "  Stored in directory: /root/.cache/pip/wheels/76/e8/1f/1fb60c7f272ecd622e92e1d7b999d5123cc44f43884457ac7c\n",
      "Successfully built PyPokerEngine\n",
      "Installing collected packages: PyPokerEngine\n",
      "Successfully installed PyPokerEngine-1.0.1\n"
     ]
    }
   ],
   "source": [
    "!pip install PyPokerEngine"
   ]
  },
  {
   "cell_type": "code",
   "execution_count": 1,
   "metadata": {
    "id": "jQ6t1OyRoSLm"
   },
   "outputs": [],
   "source": [
    "import tensorflow as tf\n",
    "import numpy as np\n",
    "import matplotlib.pyplot as plt\n",
    "import seaborn as sns\n",
    "\n",
    "from pypokerengine.api.game import setup_config, start_poker\n",
    "from pypokerengine.players import BasePokerPlayer\n",
    "from players import FishPlayer, RandomPlayer, HonestPlayer"
   ]
  },
  {
   "cell_type": "code",
   "execution_count": 2,
   "metadata": {
    "colab": {
     "base_uri": "https://localhost:8080/"
    },
    "id": "HQuuFesvoSLr",
    "outputId": "79fd4d76-f5f5-4d4b-e396-6bed4d14e9c8"
   },
   "outputs": [
    {
     "name": "stdout",
     "output_type": "stream",
     "text": [
      "Started the round 1\n",
      "Street \"preflop\" started. (community card = [])\n",
      "\"p2\" declared \"raise:79\"\n",
      "\"p1\" declared \"call:79\"\n",
      "Street \"flop\" started. (community card = ['C8', 'CA', 'DQ'])\n",
      "\"p2\" declared \"raise:12\"\n",
      "\"p1\" declared \"call:12\"\n",
      "Street \"turn\" started. (community card = ['C8', 'CA', 'DQ', 'DA'])\n",
      "\"p2\" declared \"raise:-1\"\n",
      "\"['p1']\" won the round 1 (stack = {'p1': 191, 'p2': 9})\n"
     ]
    },
    {
     "data": {
      "text/plain": [
       "{'rule': {'initial_stack': 100,\n",
       "  'max_round': 5,\n",
       "  'small_blind_amount': 5,\n",
       "  'ante': 0,\n",
       "  'blind_structure': {}},\n",
       " 'players': [{'name': 'p1',\n",
       "   'uuid': 'zdybeqfucazmspvothdmum',\n",
       "   'stack': 191,\n",
       "   'state': 'participating'},\n",
       "  {'name': 'p2',\n",
       "   'uuid': 'ocgspnihgicboxznnaztfq',\n",
       "   'stack': 0,\n",
       "   'state': 'folded'}]}"
      ]
     },
     "execution_count": 2,
     "metadata": {},
     "output_type": "execute_result"
    }
   ],
   "source": [
    "config = setup_config(max_round=5, initial_stack=100, small_blind_amount=5)\n",
    "config.register_player(name=\"p1\", algorithm=FishPlayer())\n",
    "config.register_player(name=\"p2\", algorithm=RandomPlayer())\n",
    "game_result = start_poker(config, verbose=1)\n",
    "game_result"
   ]
  },
  {
   "cell_type": "markdown",
   "metadata": {
    "id": "mwervkLcoSLw"
   },
   "source": [
    "# Encoder card\n",
    "\n",
    "Use one hot encoding here. The `encoder` dictionary to convert card text label to distinct numbers. `tf.one_hot()` is later used to convert numbers to one-hot vectors"
   ]
  },
  {
   "cell_type": "code",
   "execution_count": 3,
   "metadata": {
    "colab": {
     "base_uri": "https://localhost:8080/"
    },
    "id": "L-Zr_P2koSLx",
    "outputId": "9ea62787-e563-4c8a-bf9c-c08759d0cd59"
   },
   "outputs": [
    {
     "data": {
      "text/plain": [
       "52"
      ]
     },
     "execution_count": 3,
     "metadata": {},
     "output_type": "execute_result"
    }
   ],
   "source": [
    "suites = ('H', 'C', 'S', 'D')\n",
    "faces = [x for x in range(2,10)] + ['T', 'J', 'Q', 'K', 'A']\n",
    "\n",
    "encoder = {}\n",
    "i = 0\n",
    "\n",
    "for s in suites:\n",
    "    for f in faces:\n",
    "        encoder[f'{s}{f}'] = i\n",
    "        i += 1\n",
    "\n",
    "len(encoder)"
   ]
  },
  {
   "cell_type": "markdown",
   "metadata": {
    "id": "pYrWAWcBoSL0"
   },
   "source": [
    "# ML model definition\n",
    "\n"
   ]
  },
  {
   "cell_type": "code",
   "execution_count": 4,
   "metadata": {
    "colab": {
     "base_uri": "https://localhost:8080/"
    },
    "id": "G9t8FdYUoSL1",
    "outputId": "c3cad764-743f-486f-a615-7743721d9b58"
   },
   "outputs": [
    {
     "name": "stdout",
     "output_type": "stream",
     "text": [
      "Model: \"functional_1\"\n",
      "__________________________________________________________________________________________________\n",
      "Layer (type)                    Output Shape         Param #     Connected to                     \n",
      "==================================================================================================\n",
      "hole_cards (InputLayer)         [(None, 2, 52)]      0                                            \n",
      "__________________________________________________________________________________________________\n",
      "community_cards (InputLayer)    [(None, 5, 52)]      0                                            \n",
      "__________________________________________________________________________________________________\n",
      "concatenate (Concatenate)       (None, 7, 52)        0           hole_cards[0][0]                 \n",
      "                                                                 community_cards[0][0]            \n",
      "__________________________________________________________________________________________________\n",
      "flatten (Flatten)               (None, 364)          0           concatenate[0][0]                \n",
      "__________________________________________________________________________________________________\n",
      "stacks_history (InputLayer)     [(None, 32, 2)]      0                                            \n",
      "__________________________________________________________________________________________________\n",
      "dense_1 (Dense)                 (None, 10)           3650        flatten[0][0]                    \n",
      "__________________________________________________________________________________________________\n",
      "lstm (LSTM)                     (None, 32)           4480        stacks_history[0][0]             \n",
      "__________________________________________________________________________________________________\n",
      "concatenate_1 (Concatenate)     (None, 42)           0           dense_1[0][0]                    \n",
      "                                                                 lstm[0][0]                       \n",
      "__________________________________________________________________________________________________\n",
      "dense_2 (Dense)                 (None, 100)          4300        concatenate_1[0][0]              \n",
      "__________________________________________________________________________________________________\n",
      "dense_3 (Dense)                 (None, 100)          10100       dense_2[0][0]                    \n",
      "__________________________________________________________________________________________________\n",
      "action (Dense)                  (None, 3)            303         dense_3[0][0]                    \n",
      "==================================================================================================\n",
      "Total params: 22,833\n",
      "Trainable params: 22,833\n",
      "Non-trainable params: 0\n",
      "__________________________________________________________________________________________________\n",
      "action:  [[0.3282248  0.32698223 0.34479293]]\n"
     ]
    }
   ],
   "source": [
    "def create_model():\n",
    "    hole_cards = tf.keras.Input(shape=(2,52,), name='hole_cards')\n",
    "    community_cards = tf.keras.Input(shape=(5,52,), name='community_cards')\n",
    "    stacks_history = tf.keras.Input(shape=(32,2,), name='stacks_history')\n",
    "    \n",
    "    cards = tf.keras.layers.concatenate([hole_cards, community_cards], axis=1)\n",
    "    cards = tf.keras.layers.Flatten()(cards)\n",
    "    stacks = tf.keras.layers.LSTM(32)(stacks_history)\n",
    "    \n",
    "    cards_dense = tf.keras.layers.Dense(50, activation='relu')(cards)\n",
    "    cards_dense = tf.keras.layers.Dense(10, activation='relu')(cards)\n",
    "    x = tf.keras.layers.concatenate([cards_dense, stacks])\n",
    "    x = tf.keras.layers.Dense(100, activation='relu')(x)\n",
    "    x = tf.keras.layers.Dense(100, activation='relu')(x)\n",
    "    \n",
    "    action = tf.keras.layers.Dense(3, activation='softmax', name='action')(x)\n",
    "#     amount = tf.keras.layers.Dense(1, activation='sigmoid', name='amount')(x)\n",
    "    \n",
    "    model = tf.keras.Model(\n",
    "        inputs=[hole_cards, community_cards, stacks_history],\n",
    "        outputs=action\n",
    "    )\n",
    "    \n",
    "    return model\n",
    "\n",
    "testmodel = create_model()\n",
    "testmodel.summary()\n",
    "\n",
    "hole = ['HA', 'S4']\n",
    "community = ['ST', 'HJ', 'HQ', 'HK', 'S9']\n",
    "\n",
    "hole = [encoder[x] for x in hole]\n",
    "community = [encoder[x] for x in community]\n",
    "\n",
    "hole = tf.one_hot(hole, 52)\n",
    "hole = tf.expand_dims(hole, axis=0)\n",
    "\n",
    "community = tf.one_hot(community, 52)\n",
    "community = tf.expand_dims(community, axis=0)\n",
    "\n",
    "stacks = np.random.randint(10, 100, (32,2))\n",
    "stacks = np.expand_dims(stacks, axis=0)\n",
    "\n",
    "action = testmodel.predict([hole, community, stacks])\n",
    "print('action: ', action)"
   ]
  },
  {
   "cell_type": "code",
   "execution_count": 5,
   "metadata": {
    "id": "je8v6YbioSL3"
   },
   "outputs": [],
   "source": [
    "# game parameters\n",
    "INITIAL_STACK = 1000"
   ]
  },
  {
   "cell_type": "code",
   "execution_count": 6,
   "metadata": {
    "id": "lsYa-C1ioSL6"
   },
   "outputs": [],
   "source": [
    "class ThienPlayer(BasePokerPlayer):\n",
    "    def __init__(self, name, model):\n",
    "        self.name = name\n",
    "        self.model = model\n",
    "        self.stacks_history = np.ones((32,2))*INITIAL_STACK\n",
    "        self.state_history = []\n",
    "        self.action_history = []\n",
    "        self.payoff_history = []\n",
    "    \n",
    "    def declare_action(self, valid_actions, hole_card, round_state):\n",
    "        round_count = round_state['round_count'] % 32\n",
    "        street = round_state['street']\n",
    "        if street == 'preflop':\n",
    "            return valid_actions[1]['action'], valid_actions[1]['amount']\n",
    "        \n",
    "        hole = [encoder[x] for x in hole_card]\n",
    "        community = [encoder[x] for x in round_state['community_card']]\n",
    "        community += [-1] * (5-len(community))\n",
    "        \n",
    "        hole = tf.one_hot(hole, 52)\n",
    "        hole = tf.expand_dims(hole, axis=0)\n",
    "\n",
    "        community = tf.one_hot(community, 52)\n",
    "        community = tf.expand_dims(community, axis=0)\n",
    "            \n",
    "        for x in round_state['seats']:\n",
    "            if x['name'] == self.name:\n",
    "                self.stacks_history[round_count, 0] = x['stack']\n",
    "                self.payoff_history.append(x['stack'] - self.stacks_history[(round_count-1+32)%32, 0]) \n",
    "            else:\n",
    "                self.stacks_history[round_count, 1] = x['stack']\n",
    "        \n",
    "        stacks_history = np.vstack([self.stacks_history[round_count:], self.stacks_history[:round_count]])\n",
    "        stacks_history = np.expand_dims(stacks_history, axis=0)\n",
    "        stacks_history = tf.convert_to_tensor(stacks_history)\n",
    "        \n",
    "        state = [hole, community, stacks_history]\n",
    "        self.state_history.append(state)\n",
    "        \n",
    "        action = self.model.predict(state)[0]\n",
    "        \n",
    "        action = np.random.choice(3, p=action)\n",
    "        self.action_history.append(action)\n",
    "        \n",
    "        if action < 2:\n",
    "            amount = valid_actions[action]['amount']\n",
    "        else:\n",
    "            amount = valid_actions[action]['amount']['max']//5\n",
    "        \n",
    "        return valid_actions[action]['action'], amount\n",
    "\n",
    "    def receive_game_start_message(self, game_info):\n",
    "        pass\n",
    "    \n",
    "    def receive_round_start_message(self, round_count, hole_card, seats):\n",
    "        pass\n",
    "    \n",
    "    def receive_street_start_message(self, street, round_state):\n",
    "        pass\n",
    "    \n",
    "    def receive_game_update_message(self, action, round_state):\n",
    "        pass\n",
    "    \n",
    "    def receive_round_result_message(self, winners, hand_info, round_state):\n",
    "        pass"
   ]
  },
  {
   "cell_type": "code",
   "execution_count": 7,
   "metadata": {
    "colab": {
     "base_uri": "https://localhost:8080/"
    },
    "id": "aM96LYcuoSL8",
    "outputId": "87d0789d-26ee-4463-9155-04cfa95d1e00"
   },
   "outputs": [
    {
     "data": {
      "text/plain": [
       "{'rule': {'initial_stack': 1000,\n",
       "  'max_round': 100,\n",
       "  'small_blind_amount': 5,\n",
       "  'ante': 0,\n",
       "  'blind_structure': {}},\n",
       " 'players': [{'name': 'p1',\n",
       "   'uuid': 'fhapncwfmqfmqggtcwwnov',\n",
       "   'stack': 1992,\n",
       "   'state': 'participating'},\n",
       "  {'name': 'p2',\n",
       "   'uuid': 'kuaopvtkkkadgkxlpxgjyy',\n",
       "   'stack': 0,\n",
       "   'state': 'folded'}]}"
      ]
     },
     "execution_count": 7,
     "metadata": {},
     "output_type": "execute_result"
    }
   ],
   "source": [
    "model = create_model()\n",
    "player1 = ThienPlayer('p1', model)\n",
    "player2 = ThienPlayer('p2', model)\n",
    "\n",
    "config = setup_config(max_round=100, initial_stack=INITIAL_STACK, small_blind_amount=5)\n",
    "config.register_player(name=\"p1\", algorithm=player1)\n",
    "config.register_player(name=\"p2\", algorithm=player2)\n",
    "game_result = start_poker(config, verbose=0)\n",
    "game_result"
   ]
  },
  {
   "cell_type": "code",
   "execution_count": 8,
   "metadata": {
    "colab": {
     "base_uri": "https://localhost:8080/"
    },
    "id": "P8F1z9o8oSMC",
    "outputId": "d4199287-1af9-41a0-a316-a5881fcfebea"
   },
   "outputs": [
    {
     "name": "stdout",
     "output_type": "stream",
     "text": [
      "[-10.0, -10.0, -20.0, 10.0, -10.0, -206.0, 196.0, -10.0, -10.0, -10.0, 10.0, -10.0, -10.0, -10.0, -10.0, -10.0, 176.0, 10.0, -10.0, 10.0, -10.0, -10.0, 196.0, 10.0, 164.0, 370.0, 370.0, 248.0, 248.0, 151.0, 609.0, 288.0, 652.0, -10.0, 930.0, -10.0, -10.0, 22.0, 22.0, 942.0, 972.0]\n",
      "[-10.0, 10.0, -10.0, -10.0, 10.0, -186.0, -10.0, -206.0, -186.0, -186.0, -186.0, -186.0, -186.0, 10.0, 10.0, -10.0, -10.0, -10.0, 10.0, -10.0, 10.0, 10.0, -10.0, -10.0, -10.0, -164.0, -380.0, -10.0, -132.0, -229.0, -10.0, -10.0, -331.0, -10.0, -940.0, -940.0, -940.0, -952.0, -10.0, 10.0, -10.0, -10.0, -10.0, -10.0]\n"
     ]
    }
   ],
   "source": [
    "print(player1.payoff_history)\n",
    "print(player2.payoff_history)"
   ]
  },
  {
   "cell_type": "code",
   "execution_count": 9,
   "metadata": {
    "colab": {
     "base_uri": "https://localhost:8080/",
     "height": 282
    },
    "id": "PGkNCPpfoSMF",
    "outputId": "73d191be-6b0b-4e36-ba65-8b20122c42e2"
   },
   "outputs": [
    {
     "data": {
      "text/plain": [
       "[<matplotlib.lines.Line2D at 0x14e1a288190>]"
      ]
     },
     "execution_count": 9,
     "metadata": {},
     "output_type": "execute_result"
    },
    {
     "data": {
      "image/png": "[encoded data removed]",
      "text/plain": [
       "<Figure size 432x288 with 1 Axes>"
      ]
     },
     "metadata": {
      "needs_background": "light"
     },
     "output_type": "display_data"
    }
   ],
   "source": [
    "n = len(player1.payoff_history)\n",
    "plt.plot(np.arange(n), player1.payoff_history)"
   ]
  },
  {
   "cell_type": "code",
   "execution_count": 10,
   "metadata": {
    "colab": {
     "base_uri": "https://localhost:8080/",
     "height": 386
    },
    "id": "MV4x3NBroSMI",
    "outputId": "7f1511ae-1ead-4056-f226-9c2b9e1283d4"
   },
   "outputs": [
    {
     "data": {
      "text/plain": [
       "<seaborn.axisgrid.FacetGrid at 0x14c9ed03370>"
      ]
     },
     "execution_count": 10,
     "metadata": {},
     "output_type": "execute_result"
    },
    {
     "data": {
      "image/png": "[encoded data removed]",
      "text/plain": [
       "<Figure size 360x360 with 1 Axes>"
      ]
     },
     "metadata": {
      "needs_background": "light"
     },
     "output_type": "display_data"
    }
   ],
   "source": [
    "sns.displot(player1.payoff_history)"
   ]
  },
  {
   "cell_type": "code",
   "execution_count": 11,
   "metadata": {
    "colab": {
     "base_uri": "https://localhost:8080/"
    },
    "id": "WMpeuRS2oSMK",
    "outputId": "5767907a-1d3f-4d5a-faf2-6c05b31e3287"
   },
   "outputs": [
    {
     "data": {
      "text/plain": [
       "<tf.Tensor: shape=(41, 2, 52), dtype=float32, numpy=\n",
       "array([[[0., 0., 0., ..., 0., 0., 0.],\n",
       "        [0., 0., 1., ..., 0., 0., 0.]],\n",
       "\n",
       "       [[0., 0., 0., ..., 0., 0., 0.],\n",
       "        [0., 0., 0., ..., 0., 0., 0.]],\n",
       "\n",
       "       [[0., 0., 0., ..., 0., 0., 0.],\n",
       "        [0., 0., 0., ..., 0., 0., 0.]],\n",
       "\n",
       "       ...,\n",
       "\n",
       "       [[0., 0., 0., ..., 0., 0., 0.],\n",
       "        [0., 0., 0., ..., 0., 0., 0.]],\n",
       "\n",
       "       [[0., 0., 0., ..., 0., 0., 0.],\n",
       "        [0., 0., 0., ..., 0., 0., 0.]],\n",
       "\n",
       "       [[0., 0., 0., ..., 0., 0., 0.],\n",
       "        [0., 0., 0., ..., 0., 0., 0.]]], dtype=float32)>"
      ]
     },
     "execution_count": 11,
     "metadata": {},
     "output_type": "execute_result"
    }
   ],
   "source": [
    "hole = []\n",
    "community = []\n",
    "stack = []\n",
    "for state in player1.state_history:\n",
    "    hole.append(state[0])\n",
    "    community.append(state[1])\n",
    "    stack.append(state[2])\n",
    "    \n",
    "tf.stack(hole, axis=1)[0]"
   ]
  },
  {
   "cell_type": "code",
   "execution_count": 12,
   "metadata": {
    "colab": {
     "base_uri": "https://localhost:8080/"
    },
    "id": "ekDe2I6loSMN",
    "outputId": "c22a26bd-54d2-4b0b-94dd-1e98415c9850"
   },
   "outputs": [
    {
     "data": {
      "text/plain": [
       "<tf.Tensor: shape=(13, 2, 52), dtype=float32, numpy=\n",
       "array([[[0., 0., 0., ..., 0., 0., 0.],\n",
       "        [0., 0., 0., ..., 0., 0., 0.]],\n",
       "\n",
       "       [[0., 0., 0., ..., 0., 0., 0.],\n",
       "        [0., 0., 0., ..., 0., 0., 0.]],\n",
       "\n",
       "       [[0., 0., 0., ..., 0., 0., 0.],\n",
       "        [0., 0., 0., ..., 0., 0., 0.]],\n",
       "\n",
       "       ...,\n",
       "\n",
       "       [[0., 0., 0., ..., 0., 0., 0.],\n",
       "        [0., 0., 0., ..., 0., 0., 0.]],\n",
       "\n",
       "       [[0., 0., 0., ..., 0., 0., 0.],\n",
       "        [0., 0., 0., ..., 0., 0., 0.]],\n",
       "\n",
       "       [[0., 0., 0., ..., 0., 0., 0.],\n",
       "        [0., 0., 0., ..., 0., 0., 0.]]], dtype=float32)>"
      ]
     },
     "execution_count": 12,
     "metadata": {},
     "output_type": "execute_result"
    }
   ],
   "source": [
    "def select_train_data(states, actions, payoffs, percentile=70):\n",
    "    hole = []\n",
    "    community = []\n",
    "    stack = []\n",
    "    \n",
    "    for state in states:\n",
    "        hole.append(state[0])\n",
    "        community.append(state[1])\n",
    "        stack.append(state[2])\n",
    "    \n",
    "    hole = tf.stack(hole, axis=1)[0]\n",
    "    community = tf.stack(community, axis=1)[0]\n",
    "    stack = tf.stack(stack, axis=1)[0]\n",
    "        \n",
    "    actions = np.array(actions)\n",
    "    payoffs = np.array(payoffs)\n",
    "    \n",
    "    threshold = np.percentile(payoffs, q=percentile)\n",
    "    \n",
    "    select = (payoffs >= threshold)\n",
    "    \n",
    "    return hole[select], community[select], stack[select], actions[select]\n",
    "\n",
    "train_hole, train_community, train_stack, train_actions = select_train_data(player1.state_history, player1.action_history, player1.payoff_history)\n",
    "train_hole"
   ]
  },
  {
   "cell_type": "code",
   "execution_count": 14,
   "metadata": {
    "colab": {
     "base_uri": "https://localhost:8080/"
    },
    "id": "N_ZFSMFOoSMQ",
    "outputId": "471fc7f6-5986-4775-a7d5-2d817a88b927"
   },
   "outputs": [
    {
     "name": "stdout",
     "output_type": "stream",
     "text": [
      "Epoch 1/10\n",
      "1/1 [==============================] - 0s 2ms/step - loss: 0.9262 - acc: 0.5385\n",
      "Epoch 2/10\n",
      "1/1 [==============================] - 0s 1ms/step - loss: 0.9075 - acc: 0.5385\n",
      "Epoch 3/10\n",
      "1/1 [==============================] - 0s 2ms/step - loss: 0.8925 - acc: 0.6154\n",
      "Epoch 4/10\n",
      "1/1 [==============================] - 0s 2ms/step - loss: 0.8774 - acc: 0.6154\n",
      "Epoch 5/10\n",
      "1/1 [==============================] - 0s 2ms/step - loss: 0.8613 - acc: 0.6923\n",
      "Epoch 6/10\n",
      "1/1 [==============================] - 0s 3ms/step - loss: 0.8443 - acc: 0.6923\n",
      "Epoch 7/10\n",
      "1/1 [==============================] - 0s 3ms/step - loss: 0.8272 - acc: 0.6923\n",
      "Epoch 8/10\n",
      "1/1 [==============================] - 0s 4ms/step - loss: 0.8105 - acc: 0.6923\n",
      "Epoch 9/10\n",
      "1/1 [==============================] - 0s 2ms/step - loss: 0.7939 - acc: 0.6923\n",
      "Epoch 10/10\n",
      "1/1 [==============================] - 0s 3ms/step - loss: 0.7752 - acc: 0.6923\n"
     ]
    },
    {
     "data": {
      "text/plain": [
       "<tensorflow.python.keras.callbacks.History at 0x14e1feb0880>"
      ]
     },
     "execution_count": 14,
     "metadata": {},
     "output_type": "execute_result"
    }
   ],
   "source": [
    "model.compile(\n",
    "    loss=tf.keras.losses.SparseCategoricalCrossentropy(),\n",
    "    optimizer=tf.keras.optimizers.Adam(),\n",
    "    metrics=['acc']\n",
    ")\n",
    "model.fit([train_hole, train_community, train_stack], train_actions, epochs=10, batch_size=128)"
   ]
  },
  {
   "cell_type": "code",
   "execution_count": 15,
   "metadata": {
    "colab": {
     "base_uri": "https://localhost:8080/"
    },
    "id": "Z7kMq-oNoSMU",
    "outputId": "55c0b3f3-17f0-48a3-fe5f-a0426a648e67"
   },
   "outputs": [
    {
     "data": {
      "text/plain": [
       "{'rule': {'initial_stack': 1000,\n",
       "  'max_round': 100,\n",
       "  'small_blind_amount': 5,\n",
       "  'ante': 0,\n",
       "  'blind_structure': {}},\n",
       " 'players': [{'name': 'p1',\n",
       "   'uuid': 'rfuvezkulivmtemhvmubuu',\n",
       "   'stack': 168,\n",
       "   'state': 'participating'},\n",
       "  {'name': 'p2',\n",
       "   'uuid': 'pujrwpslagytowsfwnompq',\n",
       "   'stack': 1832,\n",
       "   'state': 'participating'}]}"
      ]
     },
     "execution_count": 15,
     "metadata": {},
     "output_type": "execute_result"
    }
   ],
   "source": [
    "def test_players(player1, player2, max_round=100):\n",
    "    config = setup_config(max_round=max_round, initial_stack=INITIAL_STACK, small_blind_amount=5)\n",
    "    config.register_player(name=\"p1\", algorithm=player1)\n",
    "    config.register_player(name=\"p2\", algorithm=player2)\n",
    "    game_result = start_poker(config, verbose=0)\n",
    "    return game_result\n",
    "\n",
    "player_trained = ThienPlayer('p1', model)\n",
    "test_players(player_trained, HonestPlayer())"
   ]
  },
  {
   "cell_type": "code",
   "execution_count": 28,
   "metadata": {},
   "outputs": [
    {
     "data": {
      "text/plain": [
       "(0.5, 1721.6, -1437.6, 142.0)"
      ]
     },
     "execution_count": 28,
     "metadata": {},
     "output_type": "execute_result"
    }
   ],
   "source": [
    "def compare_players(player1, player2, max_round=10, num_sim=10):\n",
    "    payoffs = []\n",
    "    for _ in range(num_sim):\n",
    "        game_result = test_players(player1, player2, max_round)\n",
    "        payoffs.append(game_result['players'][0]['stack'] - game_result['players'][1]['stack'])\n",
    "    \n",
    "    wins = []\n",
    "    losses = []\n",
    "    for x in payoffs:\n",
    "        if x > 0:\n",
    "            wins.append(x)\n",
    "        else:\n",
    "            losses.append(x)\n",
    "    \n",
    "    win_rate = len(wins) / num_sim\n",
    "    average_win = sum(wins) / len(wins)\n",
    "    average_loss = sum(losses) / len(losses)\n",
    "    average_payoff = sum(payoffs) / num_sim\n",
    "    return win_rate, average_win, average_loss, average_payoff\n",
    "\n",
    "player_trained = ThienPlayer('p1', poker_model)\n",
    "compare_players(player_trained, FishPlayer())"
   ]
  },
  {
   "cell_type": "code",
   "execution_count": 17,
   "metadata": {
    "colab": {
     "base_uri": "https://localhost:8080/"
    },
    "id": "iFFo2ykRoSMY",
    "outputId": "9075395c-b986-4a26-92ae-cd764a2ba726"
   },
   "outputs": [
    {
     "name": "stdout",
     "output_type": "stream",
     "text": [
      "Model: \"functional_5\"\n",
      "__________________________________________________________________________________________________\n",
      "Layer (type)                    Output Shape         Param #     Connected to                     \n",
      "==================================================================================================\n",
      "hole_cards (InputLayer)         [(None, 2, 52)]      0                                            \n",
      "__________________________________________________________________________________________________\n",
      "community_cards (InputLayer)    [(None, 5, 52)]      0                                            \n",
      "__________________________________________________________________________________________________\n",
      "concatenate_4 (Concatenate)     (None, 7, 52)        0           hole_cards[0][0]                 \n",
      "                                                                 community_cards[0][0]            \n",
      "__________________________________________________________________________________________________\n",
      "flatten_2 (Flatten)             (None, 364)          0           concatenate_4[0][0]              \n",
      "__________________________________________________________________________________________________\n",
      "stacks_history (InputLayer)     [(None, 32, 2)]      0                                            \n",
      "__________________________________________________________________________________________________\n",
      "dense_9 (Dense)                 (None, 10)           3650        flatten_2[0][0]                  \n",
      "__________________________________________________________________________________________________\n",
      "lstm_2 (LSTM)                   (None, 32)           4480        stacks_history[0][0]             \n",
      "__________________________________________________________________________________________________\n",
      "concatenate_5 (Concatenate)     (None, 42)           0           dense_9[0][0]                    \n",
      "                                                                 lstm_2[0][0]                     \n",
      "__________________________________________________________________________________________________\n",
      "dense_10 (Dense)                (None, 100)          4300        concatenate_5[0][0]              \n",
      "__________________________________________________________________________________________________\n",
      "dense_11 (Dense)                (None, 100)          10100       dense_10[0][0]                   \n",
      "__________________________________________________________________________________________________\n",
      "action (Dense)                  (None, 3)            303         dense_11[0][0]                   \n",
      "==================================================================================================\n",
      "Total params: 22,833\n",
      "Trainable params: 22,833\n",
      "Non-trainable params: 0\n",
      "__________________________________________________________________________________________________\n"
     ]
    }
   ],
   "source": [
    "poker_model = create_model()\n",
    "poker_model.summary()"
   ]
  },
  {
   "cell_type": "code",
   "execution_count": 18,
   "metadata": {
    "id": "hP5JsUpMoSMc"
   },
   "outputs": [],
   "source": [
    "def generate_game_session(player1, player2, max_round=100):\n",
    "    config = setup_config(max_round=max_round, initial_stack=INITIAL_STACK, small_blind_amount=5)\n",
    "    config.register_player(name=\"p1\", algorithm=player1)\n",
    "    config.register_player(name=\"p2\", algorithm=player2)\n",
    "    game_result = start_poker(config, verbose=0)\n",
    "    \n",
    "    states = player1.state_history\n",
    "    actions = player1.action_history\n",
    "    payoffs = player1.payoff_history\n",
    "    \n",
    "    return states, actions, payoffs\n",
    "\n",
    "player1 = ThienPlayer('p1', poker_model)\n",
    "player2 = HonestPlayer()\n",
    "states, actions, payoffs = generate_game_session(player1, player2)"
   ]
  },
  {
   "cell_type": "code",
   "execution_count": 19,
   "metadata": {
    "colab": {
     "base_uri": "https://localhost:8080/",
     "height": 386
    },
    "id": "WSwkvG-RoSMg",
    "outputId": "bb2db34a-3500-4a72-c5bc-20d46f388e4b"
   },
   "outputs": [
    {
     "data": {
      "text/plain": [
       "<seaborn.axisgrid.FacetGrid at 0x14e2605a6d0>"
      ]
     },
     "execution_count": 19,
     "metadata": {},
     "output_type": "execute_result"
    },
    {
     "data": {
      "image/png": "[encoded data removed]",
      "text/plain": [
       "<Figure size 360x360 with 1 Axes>"
      ]
     },
     "metadata": {
      "needs_background": "light"
     },
     "output_type": "display_data"
    }
   ],
   "source": [
    "sns.displot(payoffs)"
   ]
  },
  {
   "cell_type": "code",
   "execution_count": 20,
   "metadata": {
    "colab": {
     "base_uri": "https://localhost:8080/"
    },
    "id": "lsizto7IoSMj",
    "outputId": "f7ce116d-0a6a-4f79-ac58-f9816f0ec116"
   },
   "outputs": [
    {
     "name": "stdout",
     "output_type": "stream",
     "text": [
      "Epoch \t FishPlayer \t HonestPlayer\n",
      "0 \t 0.0 \t\t 0.3\n",
      "5 \t 0.1 \t\t 0.3\n",
      "10 \t 0.3 \t\t 0.1\n",
      "15 \t 0.5 \t\t 0.3\n",
      "20 \t 0.3 \t\t 0.4\n",
      "25 \t 0.5 \t\t 0.0\n",
      "30 \t 0.1 \t\t 0.2\n",
      "35 \t 0.2 \t\t 0.5\n",
      "40 \t 0.4 \t\t 0.3\n",
      "45 \t 0.1 \t\t 0.4\n",
      "50 \t 0.2 \t\t 0.3\n",
      "55 \t 0.3 \t\t 0.3\n",
      "60 \t 0.3 \t\t 0.2\n",
      "65 \t 0.0 \t\t 0.3\n",
      "70 \t 0.0 \t\t 0.3\n",
      "75 \t 0.1 \t\t 0.4\n",
      "80 \t 0.2 \t\t 0.2\n",
      "85 \t 0.3 \t\t 0.1\n",
      "90 \t 0.4 \t\t 0.2\n",
      "95 \t 0.2 \t\t 0.5\n"
     ]
    }
   ],
   "source": [
    "def train_model(model, epochs=10):\n",
    "    print('Epoch \\t FishPlayer \\t HonestPlayer')\n",
    "    \n",
    "    for i in range(epochs):\n",
    "        player1 = ThienPlayer('p1', model)\n",
    "        player2 = ThienPlayer('p2', model)\n",
    "        states, actions, payoffs = generate_game_session(player1, player2, max_round=1000)\n",
    "\n",
    "        train_hole, train_community, train_stack, train_actions = select_train_data(states, actions, payoffs)\n",
    "        \n",
    "        model.fit(\n",
    "            [train_hole, train_community, train_stack], \n",
    "            train_actions, \n",
    "            epochs=1,\n",
    "            batch_size=128,\n",
    "            verbose=0\n",
    "        )\n",
    "        \n",
    "        if i % 5 == 0:\n",
    "            fish = compare_players(player1, FishPlayer())\n",
    "            honest = compare_players(player1, HonestPlayer())\n",
    "            print(f\"{i} \\t {fish} \\t\\t {honest}\")\n",
    "\n",
    "poker_model.compile(\n",
    "    loss=tf.keras.losses.SparseCategoricalCrossentropy(),\n",
    "    optimizer=tf.keras.optimizers.Adam(),\n",
    "    metrics=['acc']\n",
    ")\n",
    "\n",
    "train_model(poker_model, epochs=100)"
   ]
  },
  {
   "cell_type": "code",
   "execution_count": 21,
   "metadata": {},
   "outputs": [
    {
     "name": "stdout",
     "output_type": "stream",
     "text": [
      "Epoch \t FishPlayer \t HonestPlayer\n",
      "0 \t 0.0 \t\t 0.5\n",
      "5 \t 0.3 \t\t 0.3\n",
      "10 \t 0.3 \t\t 0.3\n",
      "15 \t 0.2 \t\t 0.2\n",
      "20 \t 0.3 \t\t 0.2\n",
      "25 \t 0.3 \t\t 0.2\n",
      "30 \t 0.3 \t\t 0.3\n",
      "35 \t 0.1 \t\t 0.5\n",
      "40 \t 0.2 \t\t 0.6\n",
      "45 \t 0.2 \t\t 0.4\n",
      "50 \t 0.2 \t\t 0.2\n",
      "55 \t 0.5 \t\t 0.1\n",
      "60 \t 0.5 \t\t 0.5\n",
      "65 \t 0.3 \t\t 0.2\n",
      "70 \t 0.4 \t\t 0.3\n",
      "75 \t 0.4 \t\t 0.3\n",
      "80 \t 0.3 \t\t 0.4\n",
      "85 \t 0.1 \t\t 0.5\n",
      "90 \t 0.4 \t\t 0.3\n",
      "95 \t 0.9 \t\t 0.3\n",
      "100 \t 0.6 \t\t 0.3\n",
      "105 \t 0.3 \t\t 0.4\n",
      "110 \t 0.3 \t\t 0.2\n",
      "115 \t 0.3 \t\t 0.3\n",
      "120 \t 0.5 \t\t 0.2\n",
      "125 \t 0.6 \t\t 0.5\n",
      "130 \t 0.2 \t\t 0.2\n",
      "135 \t 0.2 \t\t 0.2\n",
      "140 \t 0.4 \t\t 0.4\n",
      "145 \t 0.4 \t\t 0.4\n",
      "150 \t 0.5 \t\t 0.2\n",
      "155 \t 0.4 \t\t 0.4\n",
      "160 \t 0.6 \t\t 0.4\n",
      "165 \t 0.2 \t\t 0.3\n",
      "170 \t 0.3 \t\t 0.2\n",
      "175 \t 0.4 \t\t 0.4\n",
      "180 \t 0.4 \t\t 0.1\n",
      "185 \t 0.4 \t\t 0.3\n",
      "190 \t 0.4 \t\t 0.4\n",
      "195 \t 0.5 \t\t 0.1\n",
      "200 \t 0.7 \t\t 0.2\n",
      "205 \t 0.6 \t\t 0.2\n",
      "210 \t 0.5 \t\t 0.4\n",
      "215 \t 0.2 \t\t 0.1\n",
      "220 \t 0.5 \t\t 0.5\n",
      "225 \t 0.3 \t\t 0.2\n",
      "230 \t 0.2 \t\t 0.2\n",
      "235 \t 0.3 \t\t 0.4\n",
      "240 \t 0.3 \t\t 0.3\n",
      "245 \t 0.3 \t\t 0.5\n",
      "250 \t 0.4 \t\t 0.4\n",
      "255 \t 0.4 \t\t 0.4\n",
      "260 \t 0.5 \t\t 0.3\n",
      "265 \t 0.3 \t\t 0.3\n",
      "270 \t 0.2 \t\t 0.4\n",
      "275 \t 0.4 \t\t 0.3\n",
      "280 \t 0.2 \t\t 0.3\n",
      "285 \t 0.1 \t\t 0.2\n",
      "290 \t 0.2 \t\t 0.3\n",
      "295 \t 0.2 \t\t 0.5\n",
      "300 \t 0.3 \t\t 0.2\n",
      "305 \t 0.3 \t\t 0.4\n",
      "310 \t 0.4 \t\t 0.1\n",
      "315 \t 0.6 \t\t 0.5\n",
      "320 \t 0.3 \t\t 0.4\n",
      "325 \t 0.4 \t\t 0.4\n",
      "330 \t 0.4 \t\t 0.2\n",
      "335 \t 0.3 \t\t 0.6\n",
      "340 \t 0.1 \t\t 0.3\n",
      "345 \t 0.7 \t\t 0.4\n",
      "350 \t 0.7 \t\t 0.3\n",
      "355 \t 0.2 \t\t 0.5\n",
      "360 \t 0.5 \t\t 0.1\n",
      "365 \t 0.6 \t\t 0.2\n",
      "370 \t 0.8 \t\t 0.4\n",
      "375 \t 0.5 \t\t 0.4\n",
      "380 \t 0.1 \t\t 0.1\n",
      "385 \t 0.6 \t\t 0.4\n",
      "390 \t 0.6 \t\t 0.6\n",
      "395 \t 0.5 \t\t 0.2\n",
      "400 \t 0.5 \t\t 0.3\n",
      "405 \t 0.7 \t\t 0.3\n",
      "410 \t 0.4 \t\t 0.5\n",
      "415 \t 0.5 \t\t 0.6\n",
      "420 \t 0.2 \t\t 0.2\n",
      "425 \t 0.4 \t\t 0.3\n",
      "430 \t 0.3 \t\t 0.6\n",
      "435 \t 0.4 \t\t 0.1\n",
      "440 \t 0.6 \t\t 0.1\n",
      "445 \t 0.3 \t\t 0.1\n",
      "450 \t 0.3 \t\t 0.3\n",
      "455 \t 0.3 \t\t 0.2\n",
      "460 \t 0.4 \t\t 0.4\n",
      "465 \t 0.8 \t\t 0.3\n",
      "470 \t 0.5 \t\t 0.2\n",
      "475 \t 0.3 \t\t 0.4\n",
      "480 \t 0.2 \t\t 0.1\n",
      "485 \t 0.3 \t\t 0.3\n",
      "490 \t 0.3 \t\t 0.3\n",
      "495 \t 0.7 \t\t 0.4\n",
      "500 \t 0.3 \t\t 0.4\n",
      "505 \t 0.5 \t\t 0.3\n",
      "510 \t 0.8 \t\t 0.3\n",
      "515 \t 0.4 \t\t 0.2\n",
      "520 \t 0.4 \t\t 0.4\n",
      "525 \t 0.6 \t\t 0.6\n",
      "530 \t 0.3 \t\t 0.2\n",
      "535 \t 0.4 \t\t 0.3\n",
      "540 \t 0.3 \t\t 0.3\n",
      "545 \t 0.5 \t\t 0.3\n",
      "550 \t 0.5 \t\t 0.2\n",
      "555 \t 0.2 \t\t 0.3\n",
      "560 \t 0.3 \t\t 0.5\n",
      "565 \t 0.4 \t\t 0.3\n",
      "570 \t 0.6 \t\t 0.2\n",
      "575 \t 0.4 \t\t 0.4\n",
      "580 \t 0.4 \t\t 0.2\n",
      "585 \t 0.6 \t\t 0.5\n",
      "590 \t 0.5 \t\t 0.3\n",
      "595 \t 0.2 \t\t 0.2\n",
      "600 \t 0.4 \t\t 0.1\n",
      "605 \t 0.6 \t\t 0.3\n",
      "610 \t 0.3 \t\t 0.3\n",
      "615 \t 0.5 \t\t 0.4\n",
      "620 \t 0.7 \t\t 0.4\n",
      "625 \t 0.3 \t\t 0.4\n",
      "630 \t 0.3 \t\t 0.1\n",
      "635 \t 0.3 \t\t 0.4\n",
      "640 \t 0.2 \t\t 0.4\n",
      "645 \t 0.2 \t\t 0.1\n",
      "650 \t 0.6 \t\t 0.3\n",
      "655 \t 0.3 \t\t 0.1\n",
      "660 \t 0.5 \t\t 0.5\n",
      "665 \t 0.7 \t\t 0.4\n",
      "670 \t 0.5 \t\t 0.3\n",
      "675 \t 0.2 \t\t 0.2\n",
      "680 \t 0.7 \t\t 0.1\n",
      "685 \t 0.1 \t\t 0.4\n",
      "690 \t 0.6 \t\t 0.2\n",
      "695 \t 0.1 \t\t 0.2\n",
      "700 \t 0.3 \t\t 0.2\n",
      "705 \t 0.2 \t\t 0.3\n",
      "710 \t 0.6 \t\t 0.7\n",
      "715 \t 0.6 \t\t 0.4\n",
      "720 \t 0.4 \t\t 0.7\n",
      "725 \t 0.5 \t\t 0.2\n",
      "730 \t 0.4 \t\t 0.4\n",
      "735 \t 0.5 \t\t 0.5\n",
      "740 \t 0.2 \t\t 0.0\n",
      "745 \t 0.6 \t\t 0.2\n",
      "750 \t 0.5 \t\t 0.3\n",
      "755 \t 0.6 \t\t 0.3\n",
      "760 \t 0.5 \t\t 0.2\n",
      "765 \t 0.3 \t\t 0.2\n",
      "770 \t 0.6 \t\t 0.1\n",
      "775 \t 0.4 \t\t 0.3\n",
      "780 \t 0.5 \t\t 0.4\n",
      "785 \t 0.5 \t\t 0.3\n",
      "790 \t 0.3 \t\t 0.6\n",
      "795 \t 0.3 \t\t 0.3\n",
      "800 \t 0.5 \t\t 0.5\n",
      "805 \t 0.6 \t\t 0.4\n",
      "810 \t 0.4 \t\t 0.3\n",
      "815 \t 0.3 \t\t 0.7\n",
      "820 \t 0.4 \t\t 0.3\n",
      "825 \t 0.6 \t\t 0.3\n",
      "830 \t 0.6 \t\t 0.3\n",
      "835 \t 0.4 \t\t 0.5\n",
      "840 \t 0.4 \t\t 0.5\n",
      "845 \t 0.5 \t\t 0.3\n",
      "850 \t 0.3 \t\t 0.3\n",
      "855 \t 0.5 \t\t 0.3\n",
      "860 \t 0.2 \t\t 0.4\n",
      "865 \t 0.4 \t\t 0.5\n",
      "870 \t 0.2 \t\t 0.3\n",
      "875 \t 0.1 \t\t 0.2\n",
      "880 \t 0.6 \t\t 0.5\n",
      "885 \t 0.5 \t\t 0.3\n",
      "890 \t 0.7 \t\t 0.5\n",
      "895 \t 0.3 \t\t 0.2\n",
      "900 \t 0.3 \t\t 0.1\n",
      "905 \t 0.5 \t\t 0.0\n",
      "910 \t 0.8 \t\t 0.2\n",
      "915 \t 0.4 \t\t 0.4\n",
      "920 \t 0.3 \t\t 0.2\n",
      "925 \t 0.7 \t\t 0.4\n",
      "930 \t 0.5 \t\t 0.3\n",
      "935 \t 0.4 \t\t 0.3\n",
      "940 \t 0.1 \t\t 0.1\n",
      "945 \t 0.4 \t\t 0.3\n",
      "950 \t 0.3 \t\t 0.4\n",
      "955 \t 0.4 \t\t 0.5\n",
      "960 \t 0.3 \t\t 0.1\n",
      "965 \t 0.3 \t\t 0.3\n",
      "970 \t 0.4 \t\t 0.3\n",
      "975 \t 0.3 \t\t 0.2\n",
      "980 \t 0.4 \t\t 0.3\n",
      "985 \t 0.3 \t\t 0.2\n",
      "990 \t 0.3 \t\t 0.4\n",
      "995 \t 0.4 \t\t 0.2\n"
     ]
    }
   ],
   "source": [
    "train_model(poker_model, epochs=1000)"
   ]
  },
  {
   "cell_type": "code",
   "execution_count": 30,
   "metadata": {},
   "outputs": [
    {
     "name": "stdout",
     "output_type": "stream",
     "text": [
      "Against FishPlayer: (0.35, 1729.4285714285713, -1831.923076923077, -585.45)\n",
      "Against HonestPlayer: (0.15, 799.3333333333334, -1337.4117647058824, -1016.9)\n"
     ]
    }
   ],
   "source": [
    "player1 = ThienPlayer('p1', poker_model)\n",
    "\n",
    "fish = compare_players(player1, FishPlayer(), max_round=20, num_sim=20)\n",
    "honest = compare_players(player1, HonestPlayer(), max_round=20, num_sim=20)\n",
    "\n",
    "print('Against FishPlayer:', fish)\n",
    "print('Against HonestPlayer:', honest)"
   ]
  },
  {
   "cell_type": "code",
   "execution_count": 32,
   "metadata": {
    "id": "ccHUznTxoSMl"
   },
   "outputs": [],
   "source": [
    "from datetime import datetime\n",
    "\n",
    "time = datetime.now().strftime(\"%Y%m%dh%H%M%S\")\n",
    "poker_model.save_weights(f'saved_weights/thienplayer_{time}')"
   ]
  }
 ],
 "metadata": {
  "accelerator": "GPU",
  "colab": {
   "name": "poker.ipynb",
   "provenance": []
  },
  "kernelspec": {
   "display_name": "Python [conda env:tf]",
   "language": "python",
   "name": "conda-env-tf-py"
  },
  "language_info": {
   "codemirror_mode": {
    "name": "ipython",
    "version": 3
   },
   "file_extension": ".py",
   "mimetype": "text/x-python",
   "name": "python",
   "nbconvert_exporter": "python",
   "pygments_lexer": "ipython3",
   "version": "3.8.5"
  }
 },
 "nbformat": 4,
 "nbformat_minor": 4
}
