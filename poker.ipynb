{
  "nbformat": 4,
  "nbformat_minor": 0,
  "metadata": {
    "kernelspec": {
      "display_name": "Python [conda env:tf]",
      "language": "python",
      "name": "conda-env-tf-py"
    },
    "language_info": {
      "codemirror_mode": {
        "name": "ipython",
        "version": 3
      },
      "file_extension": ".py",
      "mimetype": "text/x-python",
      "name": "python",
      "nbconvert_exporter": "python",
      "pygments_lexer": "ipython3",
      "version": "3.8.3"
    },
    "colab": {
      "name": "poker.ipynb",
      "provenance": []
    },
    "accelerator": "GPU"
  },
  "cells": [
    {
      "cell_type": "code",
      "metadata": {
        "id": "NBi2eznnoXqp",
        "outputId": "c6b9b533-28ec-4bbd-8e46-1e480e7b72c7",
        "colab": {
          "base_uri": "https://localhost:8080/"
        }
      },
      "source": [
        "!pip install PyPokerEngine"
      ],
      "execution_count": 1,
      "outputs": [
        {
          "output_type": "stream",
          "text": [
            "Collecting PyPokerEngine\n",
            "\u001b[?25l  Downloading https://files.pythonhosted.org/packages/47/ed/4518f3e9505a05a2c29d699a2ae612217e6ffcb27d91b5403061d6320056/PyPokerEngine-1.0.1.tar.gz (44kB)\n",
            "\r\u001b[K     |███████▎                        | 10kB 20.5MB/s eta 0:00:01\r\u001b[K     |██████████████▋                 | 20kB 22.7MB/s eta 0:00:01\r\u001b[K     |█████████████████████▉          | 30kB 16.5MB/s eta 0:00:01\r\u001b[K     |█████████████████████████████▏  | 40kB 14.3MB/s eta 0:00:01\r\u001b[K     |████████████████████████████████| 51kB 6.2MB/s \n",
            "\u001b[?25hBuilding wheels for collected packages: PyPokerEngine\n",
            "  Building wheel for PyPokerEngine (setup.py) ... \u001b[?25l\u001b[?25hdone\n",
            "  Created wheel for PyPokerEngine: filename=PyPokerEngine-1.0.1-cp36-none-any.whl size=34034 sha256=82e71e9f8a145e52048211ebf5bf227cc38b5e0f6038e6c4f0775c8d02cb78ed\n",
            "  Stored in directory: /root/.cache/pip/wheels/76/e8/1f/1fb60c7f272ecd622e92e1d7b999d5123cc44f43884457ac7c\n",
            "Successfully built PyPokerEngine\n",
            "Installing collected packages: PyPokerEngine\n",
            "Successfully installed PyPokerEngine-1.0.1\n"
          ],
          "name": "stdout"
        }
      ]
    },
    {
      "cell_type": "code",
      "metadata": {
        "id": "jQ6t1OyRoSLm"
      },
      "source": [
        "import tensorflow as tf\n",
        "import numpy as np\n",
        "import pandas as pd\n",
        "import matplotlib.pyplot as plt\n",
        "import seaborn as sns\n",
        "\n",
        "from pypokerengine.api.game import setup_config, start_poker\n",
        "from pypokerengine.players import BasePokerPlayer"
      ],
      "execution_count": 2,
      "outputs": []
    },
    {
      "cell_type": "code",
      "metadata": {
        "id": "HQuuFesvoSLr",
        "outputId": "79fd4d76-f5f5-4d4b-e396-6bed4d14e9c8",
        "colab": {
          "base_uri": "https://localhost:8080/"
        }
      },
      "source": [
        "class FishPlayer(BasePokerPlayer):\n",
        "    \n",
        "    def declare_action(self, valid_actions, hole_card, round_state):\n",
        "        call_action_info = valid_actions[1]\n",
        "        action, amount = call_action_info[\"action\"], call_action_info[\"amount\"]\n",
        "        return action, amount\n",
        "\n",
        "    def receive_game_start_message(self, game_info):\n",
        "        pass\n",
        "    \n",
        "    def receive_round_start_message(self, round_count, hole_card, seats):\n",
        "        pass\n",
        "    \n",
        "    def receive_street_start_message(self, street, round_state):\n",
        "        pass\n",
        "    \n",
        "    def receive_game_update_message(self, action, round_state):\n",
        "        pass\n",
        "    \n",
        "    def receive_round_result_message(self, winners, hand_info, round_state):\n",
        "        pass\n",
        "    \n",
        "config = setup_config(max_round=5, initial_stack=100, small_blind_amount=5)\n",
        "config.register_player(name=\"p1\", algorithm=FishPlayer())\n",
        "config.register_player(name=\"p2\", algorithm=FishPlayer())\n",
        "game_result = start_poker(config, verbose=1)\n",
        "game_result"
      ],
      "execution_count": 3,
      "outputs": [
        {
          "output_type": "stream",
          "text": [
            "Started the round 1\n",
            "Street \"preflop\" started. (community card = [])\n",
            "\"p2\" declared \"call:10\"\n",
            "\"p1\" declared \"call:10\"\n",
            "Street \"flop\" started. (community card = ['D2', 'CQ', 'D3'])\n",
            "\"p2\" declared \"call:0\"\n",
            "\"p1\" declared \"call:0\"\n",
            "Street \"turn\" started. (community card = ['D2', 'CQ', 'D3', 'C3'])\n",
            "\"p2\" declared \"call:0\"\n",
            "\"p1\" declared \"call:0\"\n",
            "Street \"river\" started. (community card = ['D2', 'CQ', 'D3', 'C3', 'CJ'])\n",
            "\"p2\" declared \"call:0\"\n",
            "\"p1\" declared \"call:0\"\n",
            "\"['p1']\" won the round 1 (stack = {'p1': 110, 'p2': 90})\n",
            "Started the round 2\n",
            "Street \"preflop\" started. (community card = [])\n",
            "\"p1\" declared \"call:10\"\n",
            "\"p2\" declared \"call:10\"\n",
            "Street \"flop\" started. (community card = ['H4', 'SJ', 'H2'])\n",
            "\"p1\" declared \"call:0\"\n",
            "\"p2\" declared \"call:0\"\n",
            "Street \"turn\" started. (community card = ['H4', 'SJ', 'H2', 'S9'])\n",
            "\"p1\" declared \"call:0\"\n",
            "\"p2\" declared \"call:0\"\n",
            "Street \"river\" started. (community card = ['H4', 'SJ', 'H2', 'S9', 'D7'])\n",
            "\"p1\" declared \"call:0\"\n",
            "\"p2\" declared \"call:0\"\n",
            "\"['p1']\" won the round 2 (stack = {'p1': 120, 'p2': 80})\n",
            "Started the round 3\n",
            "Street \"preflop\" started. (community card = [])\n",
            "\"p2\" declared \"call:10\"\n",
            "\"p1\" declared \"call:10\"\n",
            "Street \"flop\" started. (community card = ['DT', 'CQ', 'SQ'])\n",
            "\"p2\" declared \"call:0\"\n",
            "\"p1\" declared \"call:0\"\n",
            "Street \"turn\" started. (community card = ['DT', 'CQ', 'SQ', 'D6'])\n",
            "\"p2\" declared \"call:0\"\n",
            "\"p1\" declared \"call:0\"\n",
            "Street \"river\" started. (community card = ['DT', 'CQ', 'SQ', 'D6', 'HT'])\n",
            "\"p2\" declared \"call:0\"\n",
            "\"p1\" declared \"call:0\"\n",
            "\"['p1']\" won the round 3 (stack = {'p1': 130, 'p2': 70})\n",
            "Started the round 4\n",
            "Street \"preflop\" started. (community card = [])\n",
            "\"p1\" declared \"call:10\"\n",
            "\"p2\" declared \"call:10\"\n",
            "Street \"flop\" started. (community card = ['C4', 'HT', 'S6'])\n",
            "\"p1\" declared \"call:0\"\n",
            "\"p2\" declared \"call:0\"\n",
            "Street \"turn\" started. (community card = ['C4', 'HT', 'S6', 'H8'])\n",
            "\"p1\" declared \"call:0\"\n",
            "\"p2\" declared \"call:0\"\n",
            "Street \"river\" started. (community card = ['C4', 'HT', 'S6', 'H8', 'CQ'])\n",
            "\"p1\" declared \"call:0\"\n",
            "\"p2\" declared \"call:0\"\n",
            "\"['p1', 'p2']\" won the round 4 (stack = {'p1': 130, 'p2': 70})\n",
            "Started the round 5\n",
            "Street \"preflop\" started. (community card = [])\n",
            "\"p2\" declared \"call:10\"\n",
            "\"p1\" declared \"call:10\"\n",
            "Street \"flop\" started. (community card = ['S5', 'HJ', 'D9'])\n",
            "\"p2\" declared \"call:0\"\n",
            "\"p1\" declared \"call:0\"\n",
            "Street \"turn\" started. (community card = ['S5', 'HJ', 'D9', 'SJ'])\n",
            "\"p2\" declared \"call:0\"\n",
            "\"p1\" declared \"call:0\"\n",
            "Street \"river\" started. (community card = ['S5', 'HJ', 'D9', 'SJ', 'SA'])\n",
            "\"p2\" declared \"call:0\"\n",
            "\"p1\" declared \"call:0\"\n",
            "\"['p1']\" won the round 5 (stack = {'p1': 140, 'p2': 60})\n"
          ],
          "name": "stdout"
        },
        {
          "output_type": "execute_result",
          "data": {
            "text/plain": [
              "{'players': [{'name': 'p1',\n",
              "   'stack': 140,\n",
              "   'state': 'participating',\n",
              "   'uuid': 'dapfqewnmqvhlboyzheyly'},\n",
              "  {'name': 'p2',\n",
              "   'stack': 60,\n",
              "   'state': 'participating',\n",
              "   'uuid': 'ygugmiqgodxocvnhcdkgzk'}],\n",
              " 'rule': {'ante': 0,\n",
              "  'blind_structure': {},\n",
              "  'initial_stack': 100,\n",
              "  'max_round': 5,\n",
              "  'small_blind_amount': 5}}"
            ]
          },
          "metadata": {
            "tags": []
          },
          "execution_count": 3
        }
      ]
    },
    {
      "cell_type": "markdown",
      "metadata": {
        "id": "mwervkLcoSLw"
      },
      "source": [
        "# Encoder card\n",
        "\n",
        "Use one hot encoding here. The `encoder` dictionary to convert card text label to distinct numbers. `tf.one_hot()` is later used to convert numbers to one-hot vectors"
      ]
    },
    {
      "cell_type": "code",
      "metadata": {
        "id": "L-Zr_P2koSLx",
        "outputId": "9ea62787-e563-4c8a-bf9c-c08759d0cd59",
        "colab": {
          "base_uri": "https://localhost:8080/"
        }
      },
      "source": [
        "suites = ('H', 'C', 'S', 'D')\n",
        "faces = [x for x in range(2,10)] + ['T', 'J', 'Q', 'K', 'A']\n",
        "\n",
        "encoder = {}\n",
        "i = 0\n",
        "\n",
        "for s in suites:\n",
        "    for f in faces:\n",
        "        encoder[f'{s}{f}'] = i\n",
        "        i += 1\n",
        "\n",
        "len(encoder)"
      ],
      "execution_count": 4,
      "outputs": [
        {
          "output_type": "execute_result",
          "data": {
            "text/plain": [
              "52"
            ]
          },
          "metadata": {
            "tags": []
          },
          "execution_count": 4
        }
      ]
    },
    {
      "cell_type": "markdown",
      "metadata": {
        "id": "pYrWAWcBoSL0"
      },
      "source": [
        "# ML model definition\n",
        "\n"
      ]
    },
    {
      "cell_type": "code",
      "metadata": {
        "id": "G9t8FdYUoSL1",
        "outputId": "c3cad764-743f-486f-a615-7743721d9b58",
        "colab": {
          "base_uri": "https://localhost:8080/"
        }
      },
      "source": [
        "def create_model():\n",
        "    hole_cards = tf.keras.Input(shape=(2,52,), name='hole_cards')\n",
        "    community_cards = tf.keras.Input(shape=(5,52,), name='community_cards')\n",
        "    stacks_history = tf.keras.Input(shape=(32,2,), name='stacks_history')\n",
        "    \n",
        "    cards = tf.keras.layers.concatenate([hole_cards, community_cards], axis=1)\n",
        "    cards = tf.keras.layers.Flatten()(cards)\n",
        "    stacks = tf.keras.layers.LSTM(32)(stacks_history)\n",
        "    \n",
        "    cards_dense = tf.keras.layers.Dense(50, activation='relu')(cards)\n",
        "    cards_dense = tf.keras.layers.Dense(10, activation='relu')(cards)\n",
        "    x = tf.keras.layers.concatenate([cards_dense, stacks])\n",
        "    x = tf.keras.layers.Dense(100, activation='relu')(x)\n",
        "    x = tf.keras.layers.Dense(100, activation='relu')(x)\n",
        "    \n",
        "    action = tf.keras.layers.Dense(3, activation='softmax', name='action')(x)\n",
        "#     amount = tf.keras.layers.Dense(1, activation='sigmoid', name='amount')(x)\n",
        "    \n",
        "    model = tf.keras.Model(\n",
        "        inputs=[hole_cards, community_cards, stacks_history],\n",
        "        outputs=action\n",
        "    )\n",
        "    \n",
        "    return model\n",
        "\n",
        "testmodel = create_model()\n",
        "testmodel.summary()\n",
        "\n",
        "hole = ['HA', 'S4']\n",
        "community = ['ST', 'HJ', 'HQ', 'HK', 'S9']\n",
        "\n",
        "hole = [encoder[x] for x in hole]\n",
        "community = [encoder[x] for x in community]\n",
        "\n",
        "hole = tf.one_hot(hole, 52)\n",
        "hole = tf.expand_dims(hole, axis=0)\n",
        "\n",
        "community = tf.one_hot(community, 52)\n",
        "community = tf.expand_dims(community, axis=0)\n",
        "\n",
        "stacks = np.random.randint(10, 100, (32,2))\n",
        "stacks = np.expand_dims(stacks, axis=0)\n",
        "\n",
        "action = testmodel.predict([hole, community, stacks])\n",
        "print('action: ', action)"
      ],
      "execution_count": 21,
      "outputs": [
        {
          "output_type": "stream",
          "text": [
            "Model: \"functional_7\"\n",
            "__________________________________________________________________________________________________\n",
            "Layer (type)                    Output Shape         Param #     Connected to                     \n",
            "==================================================================================================\n",
            "hole_cards (InputLayer)         [(None, 2, 52)]      0                                            \n",
            "__________________________________________________________________________________________________\n",
            "community_cards (InputLayer)    [(None, 5, 52)]      0                                            \n",
            "__________________________________________________________________________________________________\n",
            "concatenate_6 (Concatenate)     (None, 7, 52)        0           hole_cards[0][0]                 \n",
            "                                                                 community_cards[0][0]            \n",
            "__________________________________________________________________________________________________\n",
            "flatten_3 (Flatten)             (None, 364)          0           concatenate_6[0][0]              \n",
            "__________________________________________________________________________________________________\n",
            "stacks_history (InputLayer)     [(None, 32, 2)]      0                                            \n",
            "__________________________________________________________________________________________________\n",
            "dense_7 (Dense)                 (None, 10)           3650        flatten_3[0][0]                  \n",
            "__________________________________________________________________________________________________\n",
            "lstm_3 (LSTM)                   (None, 32)           4480        stacks_history[0][0]             \n",
            "__________________________________________________________________________________________________\n",
            "concatenate_7 (Concatenate)     (None, 42)           0           dense_7[0][0]                    \n",
            "                                                                 lstm_3[0][0]                     \n",
            "__________________________________________________________________________________________________\n",
            "dense_8 (Dense)                 (None, 100)          4300        concatenate_7[0][0]              \n",
            "__________________________________________________________________________________________________\n",
            "dense_9 (Dense)                 (None, 100)          10100       dense_8[0][0]                    \n",
            "__________________________________________________________________________________________________\n",
            "action (Dense)                  (None, 3)            303         dense_9[0][0]                    \n",
            "==================================================================================================\n",
            "Total params: 22,833\n",
            "Trainable params: 22,833\n",
            "Non-trainable params: 0\n",
            "__________________________________________________________________________________________________\n",
            "action:  [[0.2969026  0.365271   0.33782634]]\n"
          ],
          "name": "stdout"
        }
      ]
    },
    {
      "cell_type": "code",
      "metadata": {
        "id": "je8v6YbioSL3"
      },
      "source": [
        "# game parameters\n",
        "INITIAL_STACK = 1000"
      ],
      "execution_count": 22,
      "outputs": []
    },
    {
      "cell_type": "code",
      "metadata": {
        "id": "lsYa-C1ioSL6"
      },
      "source": [
        "class ThienPlayer(BasePokerPlayer):\n",
        "    def __init__(self, name, model):\n",
        "        self.name = name\n",
        "        self.model = model\n",
        "        self.stacks_history = np.ones((32,2))*INITIAL_STACK\n",
        "        self.state_history = []\n",
        "        self.action_history = []\n",
        "        self.payoff_history = []\n",
        "    \n",
        "    def declare_action(self, valid_actions, hole_card, round_state):\n",
        "        round_count = round_state['round_count'] % 32\n",
        "        street = round_state['street']\n",
        "        if street == 'preflop':\n",
        "            return valid_actions[1]['action'], valid_actions[1]['amount']\n",
        "        \n",
        "        hole = [encoder[x] for x in hole_card]\n",
        "        community = [encoder[x] for x in round_state['community_card']]\n",
        "        community += [-1] * (5-len(community))\n",
        "        \n",
        "        hole = tf.one_hot(hole, 52)\n",
        "        hole = tf.expand_dims(hole, axis=0)\n",
        "\n",
        "        community = tf.one_hot(community, 52)\n",
        "        community = tf.expand_dims(community, axis=0)\n",
        "            \n",
        "        for x in round_state['seats']:\n",
        "            if x['name'] == self.name:\n",
        "                self.stacks_history[round_count, 0] = x['stack']\n",
        "                self.payoff_history.append(x['stack'] - self.stacks_history[(round_count-1+32)%32, 0]) \n",
        "            else:\n",
        "                self.stacks_history[round_count, 1] = x['stack']\n",
        "        \n",
        "        stacks_history = np.vstack([self.stacks_history[round_count:], self.stacks_history[:round_count]])\n",
        "        stacks_history = np.expand_dims(stacks_history, axis=0)\n",
        "        stacks_history = tf.convert_to_tensor(stacks_history)\n",
        "        \n",
        "        state = [hole, community, stacks_history]\n",
        "        self.state_history.append(state)\n",
        "        \n",
        "        action = self.model.predict(state)[0]\n",
        "        \n",
        "        action = np.random.choice(3, p=action)\n",
        "        self.action_history.append(action)\n",
        "        \n",
        "        if action < 2:\n",
        "            amount = valid_actions[action]['amount']\n",
        "        else:\n",
        "            amount = valid_actions[action]['amount']['max']//5\n",
        "        \n",
        "        return valid_actions[action]['action'], amount\n",
        "\n",
        "    def receive_game_start_message(self, game_info):\n",
        "        pass\n",
        "    \n",
        "    def receive_round_start_message(self, round_count, hole_card, seats):\n",
        "        pass\n",
        "    \n",
        "    def receive_street_start_message(self, street, round_state):\n",
        "        pass\n",
        "    \n",
        "    def receive_game_update_message(self, action, round_state):\n",
        "        pass\n",
        "    \n",
        "    def receive_round_result_message(self, winners, hand_info, round_state):\n",
        "        pass"
      ],
      "execution_count": 32,
      "outputs": []
    },
    {
      "cell_type": "code",
      "metadata": {
        "id": "aM96LYcuoSL8",
        "outputId": "87d0789d-26ee-4463-9155-04cfa95d1e00",
        "colab": {
          "base_uri": "https://localhost:8080/"
        }
      },
      "source": [
        "model = create_model()\n",
        "player1 = ThienPlayer('p1', model)\n",
        "player2 = ThienPlayer('p2', model)\n",
        "\n",
        "config = setup_config(max_round=100, initial_stack=INITIAL_STACK, small_blind_amount=5)\n",
        "config.register_player(name=\"p1\", algorithm=player1)\n",
        "config.register_player(name=\"p2\", algorithm=player2)\n",
        "game_result = start_poker(config, verbose=0)\n",
        "game_result"
      ],
      "execution_count": 33,
      "outputs": [
        {
          "output_type": "execute_result",
          "data": {
            "text/plain": [
              "{'players': [{'name': 'p1',\n",
              "   'stack': 0,\n",
              "   'state': 'folded',\n",
              "   'uuid': 'wrsvnxbthlrdusrxktjolx'},\n",
              "  {'name': 'p2',\n",
              "   'stack': 2000,\n",
              "   'state': 'participating',\n",
              "   'uuid': 'kovzrclhkrfitockhaoyjb'}],\n",
              " 'rule': {'ante': 0,\n",
              "  'blind_structure': {},\n",
              "  'initial_stack': 1000,\n",
              "  'max_round': 100,\n",
              "  'small_blind_amount': 5}}"
            ]
          },
          "metadata": {
            "tags": []
          },
          "execution_count": 33
        }
      ]
    },
    {
      "cell_type": "code",
      "metadata": {
        "id": "P8F1z9o8oSMC",
        "outputId": "d4199287-1af9-41a0-a316-a5881fcfebea",
        "colab": {
          "base_uri": "https://localhost:8080/"
        }
      },
      "source": [
        "print(player1.payoff_history)\n",
        "print(player2.payoff_history)"
      ],
      "execution_count": 34,
      "outputs": [
        {
          "output_type": "stream",
          "text": [
            "[0.0, 10.0, -10.0, 10.0, -10.0, -10.0, 20.0, 20.0, -10.0, 10.0, 20.0, 20.0, 20.0, -10.0, 10.0, -10.0, -10.0, -10.0, -10.0, -20.0, 10.0, 10.0, -10.0, -208.0, -366.0, -136.0, -136.0, -482.0, -482.0, -482.0, -585.0, -359.0, -487.0, -10.0, -10.0, -110.0, 210.0, -387.0, -387.0, -660.0, -10.0, -10.0, 10.0, -10.0, 10.0, -10.0, -10.0, -10.0, -700.0, -710.0, 10.0, 10.0, -10.0, -10.0, -10.0, 10.0, -50.0, -750.0, -394.0, -442.0, -442.0, -442.0, -808.0, 10.0, -10.0, -10.0, 46.0, -175.0, -10.0, -10.0, -102.0, -10.0]\n",
            "[-10.0, -10.0, -10.0, 10.0, -10.0, 10.0, 10.0, -10.0, -10.0, 10.0, 10.0, -30.0, -10.0, -10.0, 10.0, 10.0, -30.0, -10.0, 10.0, -10.0, -10.0, -10.0, -10.0, -208.0, -366.0, -366.0, 848.0, 848.0, -10.0, 472.0, -10.0, -10.0, -113.0, -10.0, -10.0, 138.0, 138.0, 138.0, 38.0, 38.0, 377.0, -10.0, 283.0, 10.0, -10.0, 10.0, -10.0, 710.0, 690.0, 730.0, -10.0, -10.0, -10.0, 670.0, 690.0, 690.0, -10.0, 70.0, 750.0, -10.0, -58.0, -58.0, 106.0, -10.0, -10.0, 439.0, 439.0, 403.0, 423.0, 762.0, 10.0, -10.0, 102.0]\n"
          ],
          "name": "stdout"
        }
      ]
    },
    {
      "cell_type": "code",
      "metadata": {
        "id": "PGkNCPpfoSMF",
        "outputId": "73d191be-6b0b-4e36-ba65-8b20122c42e2",
        "colab": {
          "base_uri": "https://localhost:8080/",
          "height": 282
        }
      },
      "source": [
        "n = len(player1.payoff_history)\n",
        "plt.plot(np.arange(n), player1.payoff_history)"
      ],
      "execution_count": 35,
      "outputs": [
        {
          "output_type": "execute_result",
          "data": {
            "text/plain": [
              "[<matplotlib.lines.Line2D at 0x7f1018d6ea20>]"
            ]
          },
          "metadata": {
            "tags": []
          },
          "execution_count": 35
        },
        {
          "output_type": "display_data",
          "data": {
            "image/png": "[encoded data removed]",
            "text/plain": [
              "<Figure size 432x288 with 1 Axes>"
            ]
          },
          "metadata": {
            "tags": [],
            "needs_background": "light"
          }
        }
      ]
    },
    {
      "cell_type": "code",
      "metadata": {
        "id": "MV4x3NBroSMI",
        "outputId": "7f1511ae-1ead-4056-f226-9c2b9e1283d4",
        "colab": {
          "base_uri": "https://localhost:8080/",
          "height": 386
        }
      },
      "source": [
        "sns.displot(player1.payoff_history)"
      ],
      "execution_count": 36,
      "outputs": [
        {
          "output_type": "execute_result",
          "data": {
            "text/plain": [
              "<seaborn.axisgrid.FacetGrid at 0x7f101c624d30>"
            ]
          },
          "metadata": {
            "tags": []
          },
          "execution_count": 36
        },
        {
          "output_type": "display_data",
          "data": {
            "image/png": "[encoded data removed]",
            "text/plain": [
              "<Figure size 360x360 with 1 Axes>"
            ]
          },
          "metadata": {
            "tags": [],
            "needs_background": "light"
          }
        }
      ]
    },
    {
      "cell_type": "code",
      "metadata": {
        "id": "WMpeuRS2oSMK",
        "outputId": "5767907a-1d3f-4d5a-faf2-6c05b31e3287",
        "colab": {
          "base_uri": "https://localhost:8080/"
        }
      },
      "source": [
        "hole = []\n",
        "community = []\n",
        "stack = []\n",
        "for state in player1.state_history:\n",
        "    hole.append(state[0])\n",
        "    community.append(state[1])\n",
        "    stack.append(state[2])\n",
        "    \n",
        "tf.stack(hole, axis=1)[0]"
      ],
      "execution_count": 37,
      "outputs": [
        {
          "output_type": "execute_result",
          "data": {
            "text/plain": [
              "<tf.Tensor: shape=(72, 2, 52), dtype=float32, numpy=\n",
              "array([[[0., 0., 0., ..., 0., 0., 0.],\n",
              "        [0., 0., 0., ..., 0., 0., 1.]],\n",
              "\n",
              "       [[0., 0., 0., ..., 0., 0., 0.],\n",
              "        [0., 0., 1., ..., 0., 0., 0.]],\n",
              "\n",
              "       [[0., 0., 0., ..., 0., 0., 0.],\n",
              "        [0., 0., 0., ..., 0., 0., 0.]],\n",
              "\n",
              "       ...,\n",
              "\n",
              "       [[0., 0., 0., ..., 0., 1., 0.],\n",
              "        [0., 0., 0., ..., 0., 0., 0.]],\n",
              "\n",
              "       [[0., 0., 0., ..., 0., 0., 0.],\n",
              "        [0., 0., 0., ..., 0., 0., 0.]],\n",
              "\n",
              "       [[0., 0., 0., ..., 0., 0., 0.],\n",
              "        [0., 0., 0., ..., 0., 0., 0.]]], dtype=float32)>"
            ]
          },
          "metadata": {
            "tags": []
          },
          "execution_count": 37
        }
      ]
    },
    {
      "cell_type": "code",
      "metadata": {
        "id": "ekDe2I6loSMN",
        "outputId": "c22a26bd-54d2-4b0b-94dd-1e98415c9850",
        "colab": {
          "base_uri": "https://localhost:8080/"
        }
      },
      "source": [
        "def select_train_data(states, actions, payoffs, percentile=70):\n",
        "    hole = []\n",
        "    community = []\n",
        "    stack = []\n",
        "    \n",
        "    for state in states:\n",
        "        hole.append(state[0])\n",
        "        community.append(state[1])\n",
        "        stack.append(state[2])\n",
        "    \n",
        "    hole = tf.stack(hole, axis=1)[0]\n",
        "    community = tf.stack(community, axis=1)[0]\n",
        "    stack = tf.stack(stack, axis=1)[0]\n",
        "        \n",
        "    actions = np.array(actions)\n",
        "    payoffs = np.array(payoffs)\n",
        "    \n",
        "    threshold = np.percentile(payoffs, q=percentile)\n",
        "    \n",
        "    select = (payoffs >= threshold)\n",
        "    \n",
        "    return hole[select], community[select], stack[select], actions[select]\n",
        "\n",
        "train_hole, train_community, train_stack, train_actions = select_train_data(player1.state_history, player1.action_history, player1.payoff_history)\n",
        "train_hole"
      ],
      "execution_count": 38,
      "outputs": [
        {
          "output_type": "execute_result",
          "data": {
            "text/plain": [
              "<tf.Tensor: shape=(46, 2, 52), dtype=float32, numpy=\n",
              "array([[[0., 0., 0., ..., 0., 0., 0.],\n",
              "        [0., 0., 0., ..., 0., 0., 1.]],\n",
              "\n",
              "       [[0., 0., 0., ..., 0., 0., 0.],\n",
              "        [0., 0., 1., ..., 0., 0., 0.]],\n",
              "\n",
              "       [[0., 0., 0., ..., 0., 0., 0.],\n",
              "        [0., 0., 0., ..., 0., 0., 0.]],\n",
              "\n",
              "       ...,\n",
              "\n",
              "       [[0., 0., 0., ..., 0., 0., 0.],\n",
              "        [0., 0., 0., ..., 0., 0., 0.]],\n",
              "\n",
              "       [[0., 0., 0., ..., 0., 1., 0.],\n",
              "        [0., 0., 0., ..., 0., 0., 0.]],\n",
              "\n",
              "       [[0., 0., 0., ..., 0., 0., 0.],\n",
              "        [0., 0., 0., ..., 0., 0., 0.]]], dtype=float32)>"
            ]
          },
          "metadata": {
            "tags": []
          },
          "execution_count": 38
        }
      ]
    },
    {
      "cell_type": "code",
      "metadata": {
        "id": "N_ZFSMFOoSMQ",
        "outputId": "471fc7f6-5986-4775-a7d5-2d817a88b927",
        "colab": {
          "base_uri": "https://localhost:8080/"
        }
      },
      "source": [
        "model.compile(\n",
        "    loss=tf.keras.losses.SparseCategoricalCrossentropy(),\n",
        "    optimizer=tf.keras.optimizers.Adam(),\n",
        "    metrics=['acc']\n",
        ")\n",
        "model.fit([train_hole, train_community, train_stack], train_actions, epochs=10)"
      ],
      "execution_count": 39,
      "outputs": [
        {
          "output_type": "stream",
          "text": [
            "Epoch 1/10\n",
            "2/2 [==============================] - 0s 5ms/step - loss: 1.0569 - acc: 0.5000\n",
            "Epoch 2/10\n",
            "2/2 [==============================] - 0s 4ms/step - loss: 1.0274 - acc: 0.5000\n",
            "Epoch 3/10\n",
            "2/2 [==============================] - 0s 4ms/step - loss: 1.0128 - acc: 0.5000\n",
            "Epoch 4/10\n",
            "2/2 [==============================] - 0s 3ms/step - loss: 0.9994 - acc: 0.5000\n",
            "Epoch 5/10\n",
            "2/2 [==============================] - 0s 3ms/step - loss: 0.9942 - acc: 0.5000\n",
            "Epoch 6/10\n",
            "2/2 [==============================] - 0s 5ms/step - loss: 0.9904 - acc: 0.5000\n",
            "Epoch 7/10\n",
            "2/2 [==============================] - 0s 3ms/step - loss: 0.9815 - acc: 0.5000\n",
            "Epoch 8/10\n",
            "2/2 [==============================] - 0s 3ms/step - loss: 0.9704 - acc: 0.5000\n",
            "Epoch 9/10\n",
            "2/2 [==============================] - 0s 3ms/step - loss: 0.9621 - acc: 0.5000\n",
            "Epoch 10/10\n",
            "2/2 [==============================] - 0s 3ms/step - loss: 0.9481 - acc: 0.5000\n"
          ],
          "name": "stdout"
        },
        {
          "output_type": "execute_result",
          "data": {
            "text/plain": [
              "<tensorflow.python.keras.callbacks.History at 0x7f1017886400>"
            ]
          },
          "metadata": {
            "tags": []
          },
          "execution_count": 39
        }
      ]
    },
    {
      "cell_type": "code",
      "metadata": {
        "id": "Z7kMq-oNoSMU",
        "outputId": "55c0b3f3-17f0-48a3-fe5f-a0426a648e67",
        "colab": {
          "base_uri": "https://localhost:8080/"
        }
      },
      "source": [
        "def test_players(player1, player2, max_round=100):\n",
        "    config = setup_config(max_round=max_round, initial_stack=INITIAL_STACK, small_blind_amount=5)\n",
        "    config.register_player(name=\"p1\", algorithm=player1)\n",
        "    config.register_player(name=\"p2\", algorithm=player2)\n",
        "    game_result = start_poker(config, verbose=0)\n",
        "    return game_result\n",
        "\n",
        "player_trained = ThienPlayer('p1', model)\n",
        "test_players(player_trained, FishPlayer())"
      ],
      "execution_count": 40,
      "outputs": [
        {
          "output_type": "execute_result",
          "data": {
            "text/plain": [
              "{'players': [{'name': 'p1',\n",
              "   'stack': 0,\n",
              "   'state': 'folded',\n",
              "   'uuid': 'gidgiojcjioturfzgajhhe'},\n",
              "  {'name': 'p2',\n",
              "   'stack': 1999,\n",
              "   'state': 'participating',\n",
              "   'uuid': 'yfpwxwsknsbunjfhcgjghc'}],\n",
              " 'rule': {'ante': 0,\n",
              "  'blind_structure': {},\n",
              "  'initial_stack': 1000,\n",
              "  'max_round': 100,\n",
              "  'small_blind_amount': 5}}"
            ]
          },
          "metadata": {
            "tags": []
          },
          "execution_count": 40
        }
      ]
    },
    {
      "cell_type": "code",
      "metadata": {
        "id": "iFFo2ykRoSMY",
        "outputId": "9075395c-b986-4a26-92ae-cd764a2ba726",
        "colab": {
          "base_uri": "https://localhost:8080/"
        }
      },
      "source": [
        "poker_model = create_model()\n",
        "poker_model.summary()"
      ],
      "execution_count": 41,
      "outputs": [
        {
          "output_type": "stream",
          "text": [
            "Model: \"functional_19\"\n",
            "__________________________________________________________________________________________________\n",
            "Layer (type)                    Output Shape         Param #     Connected to                     \n",
            "==================================================================================================\n",
            "hole_cards (InputLayer)         [(None, 2, 52)]      0                                            \n",
            "__________________________________________________________________________________________________\n",
            "community_cards (InputLayer)    [(None, 5, 52)]      0                                            \n",
            "__________________________________________________________________________________________________\n",
            "concatenate_18 (Concatenate)    (None, 7, 52)        0           hole_cards[0][0]                 \n",
            "                                                                 community_cards[0][0]            \n",
            "__________________________________________________________________________________________________\n",
            "flatten_9 (Flatten)             (None, 364)          0           concatenate_18[0][0]             \n",
            "__________________________________________________________________________________________________\n",
            "stacks_history (InputLayer)     [(None, 32, 2)]      0                                            \n",
            "__________________________________________________________________________________________________\n",
            "dense_31 (Dense)                (None, 10)           3650        flatten_9[0][0]                  \n",
            "__________________________________________________________________________________________________\n",
            "lstm_9 (LSTM)                   (None, 32)           4480        stacks_history[0][0]             \n",
            "__________________________________________________________________________________________________\n",
            "concatenate_19 (Concatenate)    (None, 42)           0           dense_31[0][0]                   \n",
            "                                                                 lstm_9[0][0]                     \n",
            "__________________________________________________________________________________________________\n",
            "dense_32 (Dense)                (None, 100)          4300        concatenate_19[0][0]             \n",
            "__________________________________________________________________________________________________\n",
            "dense_33 (Dense)                (None, 100)          10100       dense_32[0][0]                   \n",
            "__________________________________________________________________________________________________\n",
            "action (Dense)                  (None, 3)            303         dense_33[0][0]                   \n",
            "==================================================================================================\n",
            "Total params: 22,833\n",
            "Trainable params: 22,833\n",
            "Non-trainable params: 0\n",
            "__________________________________________________________________________________________________\n"
          ],
          "name": "stdout"
        }
      ]
    },
    {
      "cell_type": "code",
      "metadata": {
        "id": "hP5JsUpMoSMc"
      },
      "source": [
        "def generate_game_session(model, max_round=100):\n",
        "    player1 = ThienPlayer('p1', model)\n",
        "    player2 = ThienPlayer('p2', model)\n",
        "    \n",
        "    config = setup_config(max_round=max_round, initial_stack=INITIAL_STACK, small_blind_amount=5)\n",
        "    config.register_player(name=\"p1\", algorithm=player1)\n",
        "    config.register_player(name=\"p2\", algorithm=player2)\n",
        "    game_result = start_poker(config, verbose=0)\n",
        "    \n",
        "    states = player1.state_history + player2.state_history\n",
        "    actions = player1.action_history + player2.action_history\n",
        "    payoffs = player1.payoff_history + player2.payoff_history\n",
        "    \n",
        "    return states, actions, payoffs\n",
        "\n",
        "states, actions, payoffs = generate_game_session(poker_model)"
      ],
      "execution_count": 42,
      "outputs": []
    },
    {
      "cell_type": "code",
      "metadata": {
        "id": "WSwkvG-RoSMg",
        "outputId": "bb2db34a-3500-4a72-c5bc-20d46f388e4b",
        "colab": {
          "base_uri": "https://localhost:8080/",
          "height": 386
        }
      },
      "source": [
        "sns.displot(payoffs)"
      ],
      "execution_count": 43,
      "outputs": [
        {
          "output_type": "execute_result",
          "data": {
            "text/plain": [
              "<seaborn.axisgrid.FacetGrid at 0x7f1019c0b940>"
            ]
          },
          "metadata": {
            "tags": []
          },
          "execution_count": 43
        },
        {
          "output_type": "display_data",
          "data": {
            "image/png": "[encoded data removed]",
            "text/plain": [
              "<Figure size 360x360 with 1 Axes>"
            ]
          },
          "metadata": {
            "tags": [],
            "needs_background": "light"
          }
        }
      ]
    },
    {
      "cell_type": "code",
      "metadata": {
        "id": "lsizto7IoSMj",
        "outputId": "f7ce116d-0a6a-4f79-ac58-f9816f0ec116",
        "colab": {
          "base_uri": "https://localhost:8080/"
        }
      },
      "source": [
        "def train_model(model, num_sessions=100, epochs=10):\n",
        "    print('Epoch \\t ThienPlayer \\t FishPlayer')\n",
        "    \n",
        "    for i in range(epochs):\n",
        "        sessions = [generate_game_session(model, max_round=1000) for _ in range(num_sessions)]\n",
        "        states, actions, payoffs = [], [], []\n",
        "        for s in sessions:\n",
        "            states.extend(s[0])\n",
        "            actions.extend(s[1])\n",
        "            payoffs.extend(s[2])\n",
        "\n",
        "        train_hole, train_community, train_stack, train_actions = select_train_data(states, actions, payoffs)\n",
        "        \n",
        "        model.fit(\n",
        "            [train_hole, train_community, train_stack], \n",
        "            train_actions, \n",
        "            epochs=1,\n",
        "            batch_size=128,\n",
        "            verbose=0\n",
        "        )\n",
        "        \n",
        "        player = ThienPlayer('p1', model)\n",
        "        game_result = test_players(player, FishPlayer())\n",
        "        \n",
        "        print(f\"{i+1} \\t {game_result['players'][0]['stack']} \\t\\t {game_result['players'][1]['stack']}\")\n",
        "\n",
        "poker_model.compile(\n",
        "    loss=tf.keras.losses.SparseCategoricalCrossentropy(),\n",
        "    optimizer=tf.keras.optimizers.Adam(),\n",
        "    metrics=['acc']\n",
        ")\n",
        "\n",
        "train_model(poker_model, num_sessions=50, epochs=100)"
      ],
      "execution_count": null,
      "outputs": [
        {
          "output_type": "stream",
          "text": [
            "Epoch \t ThienPlayer \t FishPlayer\n",
            "1 \t 0 \t\t 1996\n",
            "2 \t 0 \t\t 1991\n",
            "3 \t 0 \t\t 1998\n",
            "4 \t 0 \t\t 1997\n",
            "5 \t 0 \t\t 2000\n"
          ],
          "name": "stdout"
        }
      ]
    },
    {
      "cell_type": "code",
      "metadata": {
        "id": "ccHUznTxoSMl"
      },
      "source": [
        "from datetime import datetime\n",
        "\n",
        "time = datetime.now().strftime(\"%Y%m%dh%H%M%S\")\n",
        "poker_model.save_weights(f'thienplayer_{time}')"
      ],
      "execution_count": null,
      "outputs": []
    }
  ]
}