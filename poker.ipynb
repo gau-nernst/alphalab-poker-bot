{
 "cells": [
  {
   "cell_type": "code",
   "execution_count": 2,
   "metadata": {},
   "outputs": [],
   "source": [
    "import tensorflow as tf\n",
    "import numpy as np\n",
    "import pandas as pd\n",
    "import matplotlib.pyplot as plt\n",
    "import seaborn as sns\n",
    "\n",
    "from pypokerengine.api.game import setup_config, start_poker\n",
    "from pypokerengine.players import BasePokerPlayer"
   ]
  },
  {
   "cell_type": "code",
   "execution_count": 3,
   "metadata": {},
   "outputs": [
    {
     "name": "stdout",
     "output_type": "stream",
     "text": [
      "Started the round 1\n",
      "Street \"preflop\" started. (community card = [])\n",
      "\"p2\" declared \"call:10\"\n",
      "\"p1\" declared \"call:10\"\n",
      "Street \"flop\" started. (community card = ['S4', 'H8', 'D4'])\n",
      "\"p2\" declared \"call:0\"\n",
      "\"p1\" declared \"call:0\"\n",
      "Street \"turn\" started. (community card = ['S4', 'H8', 'D4', 'HQ'])\n",
      "\"p2\" declared \"call:0\"\n",
      "\"p1\" declared \"call:0\"\n",
      "Street \"river\" started. (community card = ['S4', 'H8', 'D4', 'HQ', 'D7'])\n",
      "\"p2\" declared \"call:0\"\n",
      "\"p1\" declared \"call:0\"\n",
      "\"['p2']\" won the round 1 (stack = {'p1': 90, 'p2': 110})\n",
      "Started the round 2\n",
      "Street \"preflop\" started. (community card = [])\n",
      "\"p1\" declared \"call:10\"\n",
      "\"p2\" declared \"call:10\"\n",
      "Street \"flop\" started. (community card = ['S2', 'H8', 'H2'])\n",
      "\"p1\" declared \"call:0\"\n",
      "\"p2\" declared \"call:0\"\n",
      "Street \"turn\" started. (community card = ['S2', 'H8', 'H2', 'C8'])\n",
      "\"p1\" declared \"call:0\"\n",
      "\"p2\" declared \"call:0\"\n",
      "Street \"river\" started. (community card = ['S2', 'H8', 'H2', 'C8', 'HT'])\n",
      "\"p1\" declared \"call:0\"\n",
      "\"p2\" declared \"call:0\"\n",
      "\"['p1']\" won the round 2 (stack = {'p1': 100, 'p2': 100})\n",
      "Started the round 3\n",
      "Street \"preflop\" started. (community card = [])\n",
      "\"p2\" declared \"call:10\"\n",
      "\"p1\" declared \"call:10\"\n",
      "Street \"flop\" started. (community card = ['HQ', 'H6', 'C4'])\n",
      "\"p2\" declared \"call:0\"\n",
      "\"p1\" declared \"call:0\"\n",
      "Street \"turn\" started. (community card = ['HQ', 'H6', 'C4', 'HJ'])\n",
      "\"p2\" declared \"call:0\"\n",
      "\"p1\" declared \"call:0\"\n",
      "Street \"river\" started. (community card = ['HQ', 'H6', 'C4', 'HJ', 'D4'])\n",
      "\"p2\" declared \"call:0\"\n",
      "\"p1\" declared \"call:0\"\n",
      "\"['p1']\" won the round 3 (stack = {'p1': 110, 'p2': 90})\n",
      "Started the round 4\n",
      "Street \"preflop\" started. (community card = [])\n",
      "\"p1\" declared \"call:10\"\n",
      "\"p2\" declared \"call:10\"\n",
      "Street \"flop\" started. (community card = ['S8', 'S3', 'S5'])\n",
      "\"p1\" declared \"call:0\"\n",
      "\"p2\" declared \"call:0\"\n",
      "Street \"turn\" started. (community card = ['S8', 'S3', 'S5', 'ST'])\n",
      "\"p1\" declared \"call:0\"\n",
      "\"p2\" declared \"call:0\"\n",
      "Street \"river\" started. (community card = ['S8', 'S3', 'S5', 'ST', 'D7'])\n",
      "\"p1\" declared \"call:0\"\n",
      "\"p2\" declared \"call:0\"\n",
      "\"['p2']\" won the round 4 (stack = {'p1': 100, 'p2': 100})\n",
      "Started the round 5\n",
      "Street \"preflop\" started. (community card = [])\n",
      "\"p2\" declared \"call:10\"\n",
      "\"p1\" declared \"call:10\"\n",
      "Street \"flop\" started. (community card = ['HJ', 'D9', 'S8'])\n",
      "\"p2\" declared \"call:0\"\n",
      "\"p1\" declared \"call:0\"\n",
      "Street \"turn\" started. (community card = ['HJ', 'D9', 'S8', 'D2'])\n",
      "\"p2\" declared \"call:0\"\n",
      "\"p1\" declared \"call:0\"\n",
      "Street \"river\" started. (community card = ['HJ', 'D9', 'S8', 'D2', 'CQ'])\n",
      "\"p2\" declared \"call:0\"\n",
      "\"p1\" declared \"call:0\"\n",
      "\"['p2']\" won the round 5 (stack = {'p1': 90, 'p2': 110})\n"
     ]
    },
    {
     "data": {
      "text/plain": [
       "{'rule': {'initial_stack': 100,\n",
       "  'max_round': 5,\n",
       "  'small_blind_amount': 5,\n",
       "  'ante': 0,\n",
       "  'blind_structure': {}},\n",
       " 'players': [{'name': 'p1',\n",
       "   'uuid': 'fzldyarhqxwppnvccxkunr',\n",
       "   'stack': 90,\n",
       "   'state': 'participating'},\n",
       "  {'name': 'p2',\n",
       "   'uuid': 'hayxwljetbpkgsxdpudzjj',\n",
       "   'stack': 110,\n",
       "   'state': 'participating'}]}"
      ]
     },
     "execution_count": 3,
     "metadata": {},
     "output_type": "execute_result"
    }
   ],
   "source": [
    "class FishPlayer(BasePokerPlayer):\n",
    "    \n",
    "    def declare_action(self, valid_actions, hole_card, round_state):\n",
    "        call_action_info = valid_actions[1]\n",
    "        action, amount = call_action_info[\"action\"], call_action_info[\"amount\"]\n",
    "        return action, amount\n",
    "\n",
    "    def receive_game_start_message(self, game_info):\n",
    "        pass\n",
    "    \n",
    "    def receive_round_start_message(self, round_count, hole_card, seats):\n",
    "        pass\n",
    "    \n",
    "    def receive_street_start_message(self, street, round_state):\n",
    "        pass\n",
    "    \n",
    "    def receive_game_update_message(self, action, round_state):\n",
    "        pass\n",
    "    \n",
    "    def receive_round_result_message(self, winners, hand_info, round_state):\n",
    "        pass\n",
    "    \n",
    "config = setup_config(max_round=5, initial_stack=100, small_blind_amount=5)\n",
    "config.register_player(name=\"p1\", algorithm=FishPlayer())\n",
    "config.register_player(name=\"p2\", algorithm=FishPlayer())\n",
    "game_result = start_poker(config, verbose=1)\n",
    "game_result"
   ]
  },
  {
   "cell_type": "markdown",
   "metadata": {},
   "source": [
    "# Encoder card\n",
    "\n",
    "Use one hot encoding here. The `encoder` dictionary to convert card text label to distinct numbers. `tf.one_hot()` is later used to convert numbers to one-hot vectors"
   ]
  },
  {
   "cell_type": "code",
   "execution_count": 4,
   "metadata": {},
   "outputs": [
    {
     "data": {
      "text/plain": [
       "52"
      ]
     },
     "execution_count": 4,
     "metadata": {},
     "output_type": "execute_result"
    }
   ],
   "source": [
    "suites = ('H', 'C', 'S', 'D')\n",
    "faces = [x for x in range(2,10)] + ['T', 'J', 'Q', 'K', 'A']\n",
    "\n",
    "encoder = {}\n",
    "i = 0\n",
    "\n",
    "for s in suites:\n",
    "    for f in faces:\n",
    "        encoder[f'{s}{f}'] = i\n",
    "        i += 1\n",
    "\n",
    "len(encoder)"
   ]
  },
  {
   "cell_type": "markdown",
   "metadata": {},
   "source": [
    "# ML model definition\n",
    "\n"
   ]
  },
  {
   "cell_type": "code",
   "execution_count": 5,
   "metadata": {},
   "outputs": [
    {
     "name": "stdout",
     "output_type": "stream",
     "text": [
      "Model: \"model\"\n",
      "__________________________________________________________________________________________________\n",
      "Layer (type)                    Output Shape         Param #     Connected to                     \n",
      "==================================================================================================\n",
      "hole_cards (InputLayer)         [(None, 2, 52)]      0                                            \n",
      "__________________________________________________________________________________________________\n",
      "community_cards (InputLayer)    [(None, 5, 52)]      0                                            \n",
      "__________________________________________________________________________________________________\n",
      "concatenate (Concatenate)       (None, 7, 52)        0           hole_cards[0][0]                 \n",
      "                                                                 community_cards[0][0]            \n",
      "__________________________________________________________________________________________________\n",
      "stacks_history (InputLayer)     [(None, 32, 2)]      0                                            \n",
      "__________________________________________________________________________________________________\n",
      "flatten (Flatten)               (None, 364)          0           concatenate[0][0]                \n",
      "__________________________________________________________________________________________________\n",
      "lstm (LSTM)                     (None, 32)           4480        stacks_history[0][0]             \n",
      "__________________________________________________________________________________________________\n",
      "concatenate_1 (Concatenate)     (None, 396)          0           flatten[0][0]                    \n",
      "                                                                 lstm[0][0]                       \n",
      "__________________________________________________________________________________________________\n",
      "dense (Dense)                   (None, 100)          39700       concatenate_1[0][0]              \n",
      "__________________________________________________________________________________________________\n",
      "dense_1 (Dense)                 (None, 100)          10100       dense[0][0]                      \n",
      "__________________________________________________________________________________________________\n",
      "action (Dense)                  (None, 3)            303         dense_1[0][0]                    \n",
      "==================================================================================================\n",
      "Total params: 54,583\n",
      "Trainable params: 54,583\n",
      "Non-trainable params: 0\n",
      "__________________________________________________________________________________________________\n",
      "action:  [[0.37325022 0.33657214 0.2901776 ]]\n"
     ]
    }
   ],
   "source": [
    "def create_model():\n",
    "    hole_cards = tf.keras.Input(shape=(2,52,), name='hole_cards')\n",
    "    community_cards = tf.keras.Input(shape=(5,52,), name='community_cards')\n",
    "    stacks_history = tf.keras.Input(shape=(32,2,), name='stacks_history')\n",
    "    \n",
    "    cards = tf.keras.layers.concatenate([hole_cards, community_cards], axis=1)\n",
    "    cards = tf.keras.layers.Flatten()(cards)\n",
    "    stacks = tf.keras.layers.LSTM(32)(stacks_history)\n",
    "    \n",
    "    x = tf.keras.layers.concatenate([cards, stacks])\n",
    "    x = tf.keras.layers.Dense(100, activation='relu')(x)\n",
    "    x = tf.keras.layers.Dense(100, activation='relu')(x)\n",
    "    \n",
    "    action = tf.keras.layers.Dense(3, activation='softmax', name='action')(x)\n",
    "#     amount = tf.keras.layers.Dense(1, activation='sigmoid', name='amount')(x)\n",
    "    \n",
    "    model = tf.keras.Model(\n",
    "        inputs=[hole_cards, community_cards, stacks_history],\n",
    "        outputs=action\n",
    "    )\n",
    "    \n",
    "    return model\n",
    "\n",
    "testmodel = create_model()\n",
    "testmodel.summary()\n",
    "\n",
    "hole = ['HA', 'S4']\n",
    "community = ['ST', 'HJ', 'HQ', 'HK', 'S9']\n",
    "\n",
    "hole = [encoder[x] for x in hole]\n",
    "community = [encoder[x] for x in community]\n",
    "\n",
    "hole = tf.one_hot(hole, 52)\n",
    "hole = tf.expand_dims(hole, axis=0)\n",
    "\n",
    "community = tf.one_hot(community, 52)\n",
    "community = tf.expand_dims(community, axis=0)\n",
    "\n",
    "stacks = np.random.randint(10, 100, (32,2))\n",
    "stacks = np.expand_dims(stacks, axis=0)\n",
    "\n",
    "action = testmodel.predict([hole, community, stacks])\n",
    "print('action: ', action)"
   ]
  },
  {
   "cell_type": "code",
   "execution_count": 6,
   "metadata": {},
   "outputs": [],
   "source": [
    "# game parameters\n",
    "INITIAL_STACK = 1000"
   ]
  },
  {
   "cell_type": "code",
   "execution_count": 7,
   "metadata": {},
   "outputs": [],
   "source": [
    "class ThienPlayer(BasePokerPlayer):\n",
    "    def __init__(self, name, model):\n",
    "        self.name = name\n",
    "        self.model = model\n",
    "        self.stacks_history = np.ones((32,2))*INITIAL_STACK\n",
    "        self.state_history = []\n",
    "        self.action_history = []\n",
    "        self.payoff_history = []\n",
    "    \n",
    "    def declare_action(self, valid_actions, hole_card, round_state):\n",
    "        round_count = round_state['round_count'] % 32\n",
    "        street = round_state['street']\n",
    "        if street == 'preflop':\n",
    "            return valid_actions[1]['action'], valid_actions[1]['amount']\n",
    "        \n",
    "        hole = [encoder[x] for x in hole_card]\n",
    "        community = [encoder[x] for x in round_state['community_card']]\n",
    "        community += [-1] * (5-len(community))\n",
    "        \n",
    "        hole = tf.one_hot(hole, 52)\n",
    "        hole = tf.expand_dims(hole, axis=0)\n",
    "\n",
    "        community = tf.one_hot(community, 52)\n",
    "        community = tf.expand_dims(community, axis=0)\n",
    "            \n",
    "        for x in round_state['seats']:\n",
    "            if x['name'] == self.name:\n",
    "                self.stacks_history[round_count, 0] = x['stack']\n",
    "                self.payoff_history.append(x['stack'] - self.stacks_history[(round_count-1+32)%32, 0]) \n",
    "            else:\n",
    "                self.stacks_history[round_count, 1] = x['stack']\n",
    "        \n",
    "        stacks_history = np.vstack([self.stacks_history[round_count:], self.stacks_history[:round_count]])\n",
    "        stacks_history = np.expand_dims(stacks_history, axis=0)\n",
    "        stacks_history = tf.convert_to_tensor(stacks_history)\n",
    "        \n",
    "        state = [hole, community, stacks_history]\n",
    "        self.state_history.append(state)\n",
    "        \n",
    "        action = self.model.predict(state)[0]\n",
    "        \n",
    "        action = np.random.choice(3, p=action)\n",
    "        self.action_history.append(action)\n",
    "        \n",
    "        if action < 2:\n",
    "            amount = valid_actions[action]['amount']\n",
    "        else:\n",
    "            amount = valid_actions[action]['amount']['min']\n",
    "        \n",
    "        return valid_actions[action]['action'], amount\n",
    "\n",
    "    def receive_game_start_message(self, game_info):\n",
    "        pass\n",
    "    \n",
    "    def receive_round_start_message(self, round_count, hole_card, seats):\n",
    "        pass\n",
    "    \n",
    "    def receive_street_start_message(self, street, round_state):\n",
    "        pass\n",
    "    \n",
    "    def receive_game_update_message(self, action, round_state):\n",
    "        pass\n",
    "    \n",
    "    def receive_round_result_message(self, winners, hand_info, round_state):\n",
    "        pass"
   ]
  },
  {
   "cell_type": "code",
   "execution_count": 8,
   "metadata": {},
   "outputs": [
    {
     "data": {
      "text/plain": [
       "{'rule': {'initial_stack': 1000,\n",
       "  'max_round': 100,\n",
       "  'small_blind_amount': 5,\n",
       "  'ante': 0,\n",
       "  'blind_structure': {}},\n",
       " 'players': [{'name': 'p1',\n",
       "   'uuid': 'pplnofiwjnbgntuxdbcyfj',\n",
       "   'stack': 1410,\n",
       "   'state': 'participating'},\n",
       "  {'name': 'p2',\n",
       "   'uuid': 'mskqnnxpmpmxyhyetdqojj',\n",
       "   'stack': 590,\n",
       "   'state': 'participating'}]}"
      ]
     },
     "execution_count": 8,
     "metadata": {},
     "output_type": "execute_result"
    }
   ],
   "source": [
    "model = create_model()\n",
    "player1 = ThienPlayer('p1', model)\n",
    "player2 = ThienPlayer('p2', model)\n",
    "\n",
    "config = setup_config(max_round=100, initial_stack=INITIAL_STACK, small_blind_amount=5)\n",
    "config.register_player(name=\"p1\", algorithm=player1)\n",
    "config.register_player(name=\"p2\", algorithm=player2)\n",
    "game_result = start_poker(config, verbose=0)\n",
    "game_result"
   ]
  },
  {
   "cell_type": "code",
   "execution_count": 10,
   "metadata": {},
   "outputs": [
    {
     "name": "stdout",
     "output_type": "stream",
     "text": [
      "[-10.0, -10.0, -10.0, -30.0, -10.0, 20.0, 10.0, 30.0, -10.0, -10.0, -10.0, -10.0, 20.0, -10.0, -20.0, -10.0, -10.0, 10.0, 10.0, -10.0, -20.0, 10.0, 10.0, 10.0, 10.0, 20.0, 20.0, 10.0, 10.0, -10.0, -10.0, 50.0, 40.0, 30.0, 30.0, 60.0, 10.0, 0.0, 140.0, 130.0, 170.0, -10.0, 10.0, 10.0, 250.0, 240.0, 230.0, 220.0, -10.0, -20.0, -30.0, -40.0, 80.0, 260.0, 260.0, 260.0, -20.0, -10.0, 250.0, 240.0, 230.0, 230.0, 290.0, 260.0, 260.0, -10.0, -10.0, 10.0, -10.0, 10.0, -10.0, 10.0, 10.0, 10.0, 0.0, 0.0, -10.0, -10.0, -10.0, -10.0, -10.0, -20.0, -10.0, -20.0, -10.0, 180.0, 20.0, 20.0, 230.0, 230.0, 220.0, 30.0, 20.0, 10.0, 240.0, -10.0, -30.0, -40.0, -10.0, 10.0, 30.0, -10.0, -10.0, 10.0, -10.0, -50.0, -60.0, -60.0, -60.0, -10.0, -10.0, -30.0, -50.0, -70.0, -80.0, 160.0, 150.0, 50.0, 40.0, 20.0, 70.0, 20.0, 10.0, 40.0, 30.0, 30.0, -10.0, 390.0, 390.0, 370.0, 360.0, -10.0, 20.0, 10.0, 0.0, 40.0]\n",
      "[-10.0, 10.0, 0.0, 40.0, 30.0, -10.0, -20.0, -10.0, 10.0, 10.0, 10.0, 0.0, 0.0, -10.0, 20.0, 10.0, -10.0, -10.0, 10.0, -10.0, -10.0, -10.0, -10.0, -10.0, -10.0, -10.0, -20.0, -10.0, -10.0, -10.0, -10.0, -60.0, 10.0, -10.0, -10.0, -30.0, -30.0, -20.0, -20.0, -10.0, -30.0, -10.0, -10.0, -20.0, -10.0, -180.0, -180.0, -10.0, -20.0, -10.0, -10.0, -20.0, -40.0, 70.0, 70.0, 50.0, 40.0, 40.0, -20.0, -10.0, -10.0, -10.0, -10.0, 20.0, 10.0, -10.0, -10.0, -30.0, -30.0, -10.0, -290.0, -10.0, 10.0, 10.0, -10.0, 10.0, -10.0, 10.0, -10.0, -10.0, -10.0, -10.0, -20.0, -20.0, -20.0, -160.0, -160.0, 10.0, 20.0, 20.0, 10.0, -20.0, -190.0, -10.0, 10.0, -10.0, -20.0, -10.0, -20.0, -10.0, 20.0, 30.0, 20.0, 0.0, 70.0, -10.0, -20.0, -30.0, 50.0, 10.0, -10.0, 10.0, -10.0, -10.0, 20.0, 60.0, 60.0, 60.0, 50.0, 30.0, 10.0, -10.0, -20.0, -30.0, -10.0, -10.0, -30.0, -40.0, -10.0, -20.0, -10.0, -30.0, -10.0, -20.0, -20.0, 30.0, -10.0, -10.0, -20.0, -30.0, 60.0, 50.0, -10.0, -10.0, -20.0, -30.0]\n"
     ]
    }
   ],
   "source": [
    "print(player1.payoff_history)\n",
    "print(player2.payoff_history)"
   ]
  },
  {
   "cell_type": "code",
   "execution_count": 11,
   "metadata": {},
   "outputs": [
    {
     "data": {
      "text/plain": [
       "[<matplotlib.lines.Line2D at 0x7fd8283ea910>]"
      ]
     },
     "execution_count": 11,
     "metadata": {},
     "output_type": "execute_result"
    },
    {
     "data": {
      "image/png": "[encoded data removed]",
      "text/plain": [
       "<Figure size 432x288 with 1 Axes>"
      ]
     },
     "metadata": {
      "needs_background": "light"
     },
     "output_type": "display_data"
    }
   ],
   "source": [
    "n = len(player1.payoff_history)\n",
    "plt.plot(np.arange(n), player1.payoff_history)"
   ]
  },
  {
   "cell_type": "code",
   "execution_count": 12,
   "metadata": {},
   "outputs": [
    {
     "data": {
      "text/plain": [
       "<seaborn.axisgrid.FacetGrid at 0x7fd8287bd850>"
      ]
     },
     "execution_count": 12,
     "metadata": {},
     "output_type": "execute_result"
    },
    {
     "data": {
      "image/png": "[encoded data removed]",
      "text/plain": [
       "<Figure size 360x360 with 1 Axes>"
      ]
     },
     "metadata": {
      "needs_background": "light"
     },
     "output_type": "display_data"
    }
   ],
   "source": [
    "sns.displot(player1.payoff_history)"
   ]
  },
  {
   "cell_type": "code",
   "execution_count": 13,
   "metadata": {},
   "outputs": [
    {
     "data": {
      "text/plain": [
       "<tf.Tensor: shape=(136, 2, 52), dtype=float32, numpy=\n",
       "array([[[0., 0., 0., ..., 0., 0., 0.],\n",
       "        [0., 0., 0., ..., 0., 0., 0.]],\n",
       "\n",
       "       [[0., 0., 0., ..., 0., 0., 0.],\n",
       "        [0., 0., 0., ..., 0., 0., 0.]],\n",
       "\n",
       "       [[0., 0., 0., ..., 0., 0., 0.],\n",
       "        [0., 0., 0., ..., 0., 0., 0.]],\n",
       "\n",
       "       ...,\n",
       "\n",
       "       [[0., 0., 0., ..., 0., 0., 0.],\n",
       "        [0., 0., 0., ..., 0., 0., 0.]],\n",
       "\n",
       "       [[0., 0., 0., ..., 0., 0., 0.],\n",
       "        [0., 0., 0., ..., 0., 0., 0.]],\n",
       "\n",
       "       [[0., 0., 0., ..., 0., 0., 0.],\n",
       "        [0., 0., 0., ..., 0., 0., 0.]]], dtype=float32)>"
      ]
     },
     "execution_count": 13,
     "metadata": {},
     "output_type": "execute_result"
    }
   ],
   "source": [
    "hole = []\n",
    "community = []\n",
    "stack = []\n",
    "for state in player1.state_history:\n",
    "    hole.append(state[0])\n",
    "    community.append(state[1])\n",
    "    stack.append(state[2])\n",
    "    \n",
    "tf.stack(hole, axis=1)[0]"
   ]
  },
  {
   "cell_type": "code",
   "execution_count": 14,
   "metadata": {},
   "outputs": [
    {
     "data": {
      "text/plain": [
       "<tf.Tensor: shape=(44, 2, 52), dtype=float32, numpy=\n",
       "array([[[0., 0., 0., ..., 0., 0., 0.],\n",
       "        [0., 0., 0., ..., 0., 1., 0.]],\n",
       "\n",
       "       [[0., 0., 0., ..., 0., 0., 0.],\n",
       "        [0., 0., 0., ..., 0., 0., 0.]],\n",
       "\n",
       "       [[0., 0., 0., ..., 0., 0., 0.],\n",
       "        [0., 0., 0., ..., 0., 0., 0.]],\n",
       "\n",
       "       ...,\n",
       "\n",
       "       [[0., 0., 0., ..., 0., 0., 0.],\n",
       "        [0., 0., 0., ..., 0., 0., 0.]],\n",
       "\n",
       "       [[0., 0., 0., ..., 0., 0., 0.],\n",
       "        [0., 0., 0., ..., 0., 0., 0.]],\n",
       "\n",
       "       [[0., 0., 0., ..., 0., 0., 0.],\n",
       "        [0., 0., 0., ..., 0., 0., 0.]]], dtype=float32)>"
      ]
     },
     "execution_count": 14,
     "metadata": {},
     "output_type": "execute_result"
    }
   ],
   "source": [
    "def select_train_data(states, actions, payoffs, percentile=70):\n",
    "    hole = []\n",
    "    community = []\n",
    "    stack = []\n",
    "    \n",
    "    for state in states:\n",
    "        hole.append(state[0])\n",
    "        community.append(state[1])\n",
    "        stack.append(state[2])\n",
    "    \n",
    "    hole = tf.stack(hole, axis=1)[0]\n",
    "    community = tf.stack(community, axis=1)[0]\n",
    "    stack = tf.stack(stack, axis=1)[0]\n",
    "        \n",
    "    actions = np.array(actions)\n",
    "    payoffs = np.array(payoffs)\n",
    "    \n",
    "    threshold = np.percentile(payoffs, q=percentile)\n",
    "    \n",
    "    select = (payoffs >= threshold)\n",
    "    \n",
    "    return hole[select], community[select], stack[select], actions[select]\n",
    "\n",
    "train_hole, train_community, train_stack, train_actions = select_train_data(player1.state_history, player1.action_history, player1.payoff_history)\n",
    "train_hole"
   ]
  },
  {
   "cell_type": "code",
   "execution_count": 15,
   "metadata": {},
   "outputs": [
    {
     "name": "stdout",
     "output_type": "stream",
     "text": [
      "Epoch 1/10\n",
      "2/2 [==============================] - 0s 3ms/step - loss: 1.1021 - acc: 0.3409\n",
      "Epoch 2/10\n",
      "2/2 [==============================] - 0s 3ms/step - loss: 1.0577 - acc: 0.4773\n",
      "Epoch 3/10\n",
      "2/2 [==============================] - 0s 3ms/step - loss: 1.0275 - acc: 0.5455\n",
      "Epoch 4/10\n",
      "2/2 [==============================] - 0s 3ms/step - loss: 1.0006 - acc: 0.5909\n",
      "Epoch 5/10\n",
      "2/2 [==============================] - 0s 4ms/step - loss: 0.9735 - acc: 0.6364\n",
      "Epoch 6/10\n",
      "2/2 [==============================] - 0s 4ms/step - loss: 0.9495 - acc: 0.6591\n",
      "Epoch 7/10\n",
      "2/2 [==============================] - 0s 4ms/step - loss: 0.9263 - acc: 0.6591\n",
      "Epoch 8/10\n",
      "2/2 [==============================] - 0s 4ms/step - loss: 0.9019 - acc: 0.6364\n",
      "Epoch 9/10\n",
      "2/2 [==============================] - 0s 4ms/step - loss: 0.8767 - acc: 0.6591\n",
      "Epoch 10/10\n",
      "2/2 [==============================] - 0s 4ms/step - loss: 0.8506 - acc: 0.6818\n"
     ]
    },
    {
     "data": {
      "text/plain": [
       "<tensorflow.python.keras.callbacks.History at 0x7fd828332fa0>"
      ]
     },
     "execution_count": 15,
     "metadata": {},
     "output_type": "execute_result"
    }
   ],
   "source": [
    "model.compile(\n",
    "    loss=tf.keras.losses.SparseCategoricalCrossentropy(),\n",
    "    optimizer=tf.keras.optimizers.Adam(),\n",
    "    metrics=['acc']\n",
    ")\n",
    "model.fit([train_hole, train_community, train_stack], train_actions, epochs=10)"
   ]
  },
  {
   "cell_type": "code",
   "execution_count": 16,
   "metadata": {},
   "outputs": [
    {
     "data": {
      "text/plain": [
       "{'rule': {'initial_stack': 1000,\n",
       "  'max_round': 100,\n",
       "  'small_blind_amount': 5,\n",
       "  'ante': 0,\n",
       "  'blind_structure': {}},\n",
       " 'players': [{'name': 'p1',\n",
       "   'uuid': 'eftrezuzcxaornfymwamqy',\n",
       "   'stack': 270,\n",
       "   'state': 'participating'},\n",
       "  {'name': 'p2',\n",
       "   'uuid': 'resyfbfixeqsfxohumsxlm',\n",
       "   'stack': 1730,\n",
       "   'state': 'participating'}]}"
      ]
     },
     "execution_count": 16,
     "metadata": {},
     "output_type": "execute_result"
    }
   ],
   "source": [
    "def test_players(player1, player2, max_round=100):\n",
    "    config = setup_config(max_round=max_round, initial_stack=INITIAL_STACK, small_blind_amount=5)\n",
    "    config.register_player(name=\"p1\", algorithm=player1)\n",
    "    config.register_player(name=\"p2\", algorithm=player2)\n",
    "    game_result = start_poker(config, verbose=0)\n",
    "    return game_result\n",
    "\n",
    "player_trained = ThienPlayer('p1', model)\n",
    "test_players(player_trained, FishPlayer())"
   ]
  },
  {
   "cell_type": "code",
   "execution_count": 17,
   "metadata": {},
   "outputs": [
    {
     "name": "stdout",
     "output_type": "stream",
     "text": [
      "Model: \"model_2\"\n",
      "__________________________________________________________________________________________________\n",
      "Layer (type)                    Output Shape         Param #     Connected to                     \n",
      "==================================================================================================\n",
      "hole_cards (InputLayer)         [(None, 2, 52)]      0                                            \n",
      "__________________________________________________________________________________________________\n",
      "community_cards (InputLayer)    [(None, 5, 52)]      0                                            \n",
      "__________________________________________________________________________________________________\n",
      "concatenate_4 (Concatenate)     (None, 7, 52)        0           hole_cards[0][0]                 \n",
      "                                                                 community_cards[0][0]            \n",
      "__________________________________________________________________________________________________\n",
      "stacks_history (InputLayer)     [(None, 32, 2)]      0                                            \n",
      "__________________________________________________________________________________________________\n",
      "flatten_2 (Flatten)             (None, 364)          0           concatenate_4[0][0]              \n",
      "__________________________________________________________________________________________________\n",
      "lstm_2 (LSTM)                   (None, 32)           4480        stacks_history[0][0]             \n",
      "__________________________________________________________________________________________________\n",
      "concatenate_5 (Concatenate)     (None, 396)          0           flatten_2[0][0]                  \n",
      "                                                                 lstm_2[0][0]                     \n",
      "__________________________________________________________________________________________________\n",
      "dense_4 (Dense)                 (None, 100)          39700       concatenate_5[0][0]              \n",
      "__________________________________________________________________________________________________\n",
      "dense_5 (Dense)                 (None, 100)          10100       dense_4[0][0]                    \n",
      "__________________________________________________________________________________________________\n",
      "action (Dense)                  (None, 3)            303         dense_5[0][0]                    \n",
      "==================================================================================================\n",
      "Total params: 54,583\n",
      "Trainable params: 54,583\n",
      "Non-trainable params: 0\n",
      "__________________________________________________________________________________________________\n"
     ]
    }
   ],
   "source": [
    "poker_model = create_model()\n",
    "poker_model.summary()"
   ]
  },
  {
   "cell_type": "code",
   "execution_count": 18,
   "metadata": {},
   "outputs": [],
   "source": [
    "def generate_game_session(model, max_round=100):\n",
    "    player1 = ThienPlayer('p1', model)\n",
    "    player2 = ThienPlayer('p2', model)\n",
    "    \n",
    "    config = setup_config(max_round=max_round, initial_stack=INITIAL_STACK, small_blind_amount=5)\n",
    "    config.register_player(name=\"p1\", algorithm=player1)\n",
    "    config.register_player(name=\"p2\", algorithm=player2)\n",
    "    game_result = start_poker(config, verbose=0)\n",
    "    \n",
    "    states = player1.state_history + player2.state_history\n",
    "    actions = player1.action_history + player2.action_history\n",
    "    payoffs = player1.payoff_history + player2.payoff_history\n",
    "    \n",
    "    return states, actions, payoffs\n",
    "\n",
    "states, actions, payoffs = generate_game_session(poker_model)"
   ]
  },
  {
   "cell_type": "code",
   "execution_count": 19,
   "metadata": {},
   "outputs": [
    {
     "data": {
      "text/plain": [
       "<seaborn.axisgrid.FacetGrid at 0x7fd7f02a6f40>"
      ]
     },
     "execution_count": 19,
     "metadata": {},
     "output_type": "execute_result"
    },
    {
     "data": {
      "image/png": "[encoded data removed]",
      "text/plain": [
       "<Figure size 360x360 with 1 Axes>"
      ]
     },
     "metadata": {
      "needs_background": "light"
     },
     "output_type": "display_data"
    }
   ],
   "source": [
    "sns.displot(payoffs)"
   ]
  },
  {
   "cell_type": "code",
   "execution_count": null,
   "metadata": {},
   "outputs": [
    {
     "name": "stdout",
     "output_type": "stream",
     "text": [
      "Epoch \t ThienPlayer \t FishPlayer\n",
      "1 \t 0 \t\t 2000\n",
      "2 \t 0 \t\t 2000\n",
      "3 \t 80 \t\t 1920\n",
      "4 \t 70 \t\t 1930\n",
      "5 \t 230 \t\t 1770\n",
      "6 \t 0 \t\t 2000\n",
      "7 \t 570 \t\t 1430\n",
      "8 \t 0 \t\t 2000\n",
      "9 \t 240 \t\t 1760\n",
      "10 \t 640 \t\t 1360\n",
      "11 \t 60 \t\t 1940\n",
      "12 \t 50 \t\t 1950\n",
      "13 \t 360 \t\t 1640\n",
      "14 \t 0 \t\t 2000\n",
      "15 \t 10 \t\t 1990\n",
      "16 \t 10 \t\t 1990\n",
      "17 \t 0 \t\t 2000\n",
      "18 \t 50 \t\t 1950\n",
      "19 \t 0 \t\t 2000\n",
      "20 \t 250 \t\t 1750\n",
      "21 \t 40 \t\t 1960\n",
      "22 \t 500 \t\t 1500\n",
      "23 \t 0 \t\t 2000\n",
      "24 \t 500 \t\t 1500\n",
      "25 \t 40 \t\t 1960\n",
      "26 \t 130 \t\t 1870\n",
      "27 \t 340 \t\t 1660\n",
      "28 \t 60 \t\t 1940\n",
      "29 \t 100 \t\t 1900\n",
      "30 \t 110 \t\t 1890\n",
      "31 \t 360 \t\t 1640\n",
      "32 \t 520 \t\t 1480\n"
     ]
    }
   ],
   "source": [
    "def train_model(model, epochs=100):\n",
    "    print('Epoch \\t ThienPlayer \\t FishPlayer')\n",
    "    \n",
    "    for i in range(epochs):\n",
    "        states, actions, payoffs = generate_game_session(model)\n",
    "        train_hole, train_community, train_stack, train_actions = select_train_data(states, actions, payoffs)\n",
    "        \n",
    "        model.fit(\n",
    "            [train_hole, train_community, train_stack], \n",
    "            train_actions, \n",
    "            epochs=1,\n",
    "            batch_size=128,\n",
    "            verbose=0\n",
    "        )\n",
    "        \n",
    "        player = ThienPlayer('p1', model)\n",
    "        game_result = test_players(player, FishPlayer())\n",
    "        \n",
    "        print(f\"{i+1} \\t {game_result['players'][0]['stack']} \\t\\t {game_result['players'][1]['stack']}\")\n",
    "\n",
    "poker_model.compile(\n",
    "    loss=tf.keras.losses.SparseCategoricalCrossentropy(),\n",
    "    optimizer=tf.keras.optimizers.Adam(),\n",
    "    metrics=['acc']\n",
    ")\n",
    "\n",
    "train_model(poker_model, epochs=100)"
   ]
  },
  {
   "cell_type": "code",
   "execution_count": 24,
   "metadata": {},
   "outputs": [],
   "source": [
    "from datetime import datetime\n",
    "\n",
    "time = datetime.now().strftime(\"%Y%m%dh%H%M%S\")\n",
    "poker_model.save_weights(f'thienplayer_{time}')"
   ]
  }
 ],
 "metadata": {
  "kernelspec": {
   "display_name": "Python [conda env:tf]",
   "language": "python",
   "name": "conda-env-tf-py"
  },
  "language_info": {
   "codemirror_mode": {
    "name": "ipython",
    "version": 3
   },
   "file_extension": ".py",
   "mimetype": "text/x-python",
   "name": "python",
   "nbconvert_exporter": "python",
   "pygments_lexer": "ipython3",
   "version": "3.8.3"
  }
 },
 "nbformat": 4,
 "nbformat_minor": 4
}
